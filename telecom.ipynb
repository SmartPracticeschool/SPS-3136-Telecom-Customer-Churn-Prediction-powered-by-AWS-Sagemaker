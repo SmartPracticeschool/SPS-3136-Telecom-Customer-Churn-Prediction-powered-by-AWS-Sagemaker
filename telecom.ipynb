{
 "cells": [
  {
   "cell_type": "code",
   "execution_count": 1,
   "metadata": {},
   "outputs": [],
   "source": [
    "import numpy as np\n",
    "import pandas as pd\n",
    "import seaborn as sns\n",
    "import matplotlib.pyplot as plt"
   ]
  },
  {
   "cell_type": "code",
   "execution_count": 2,
   "metadata": {},
   "outputs": [
    {
     "data": {
      "text/html": [
       "<div>\n",
       "<style scoped>\n",
       "    .dataframe tbody tr th:only-of-type {\n",
       "        vertical-align: middle;\n",
       "    }\n",
       "\n",
       "    .dataframe tbody tr th {\n",
       "        vertical-align: top;\n",
       "    }\n",
       "\n",
       "    .dataframe thead th {\n",
       "        text-align: right;\n",
       "    }\n",
       "</style>\n",
       "<table border=\"1\" class=\"dataframe\">\n",
       "  <thead>\n",
       "    <tr style=\"text-align: right;\">\n",
       "      <th></th>\n",
       "      <th>RowNumber</th>\n",
       "      <th>CustomerId</th>\n",
       "      <th>Surname</th>\n",
       "      <th>CreditScore</th>\n",
       "      <th>Geography</th>\n",
       "      <th>Gender</th>\n",
       "      <th>Age</th>\n",
       "      <th>Tenure</th>\n",
       "      <th>Balance</th>\n",
       "      <th>NumOfProducts</th>\n",
       "      <th>HasCrCard</th>\n",
       "      <th>IsActiveMember</th>\n",
       "      <th>EstimatedSalary</th>\n",
       "      <th>Exited</th>\n",
       "    </tr>\n",
       "  </thead>\n",
       "  <tbody>\n",
       "    <tr>\n",
       "      <th>0</th>\n",
       "      <td>1</td>\n",
       "      <td>15634602</td>\n",
       "      <td>Hargrave</td>\n",
       "      <td>619</td>\n",
       "      <td>France</td>\n",
       "      <td>Female</td>\n",
       "      <td>42</td>\n",
       "      <td>2</td>\n",
       "      <td>0.00</td>\n",
       "      <td>1</td>\n",
       "      <td>1</td>\n",
       "      <td>1</td>\n",
       "      <td>101348.88</td>\n",
       "      <td>1</td>\n",
       "    </tr>\n",
       "    <tr>\n",
       "      <th>1</th>\n",
       "      <td>2</td>\n",
       "      <td>15647311</td>\n",
       "      <td>Hill</td>\n",
       "      <td>608</td>\n",
       "      <td>Spain</td>\n",
       "      <td>Female</td>\n",
       "      <td>41</td>\n",
       "      <td>1</td>\n",
       "      <td>83807.86</td>\n",
       "      <td>1</td>\n",
       "      <td>0</td>\n",
       "      <td>1</td>\n",
       "      <td>112542.58</td>\n",
       "      <td>0</td>\n",
       "    </tr>\n",
       "    <tr>\n",
       "      <th>2</th>\n",
       "      <td>3</td>\n",
       "      <td>15619304</td>\n",
       "      <td>Onio</td>\n",
       "      <td>502</td>\n",
       "      <td>France</td>\n",
       "      <td>Female</td>\n",
       "      <td>42</td>\n",
       "      <td>8</td>\n",
       "      <td>159660.80</td>\n",
       "      <td>3</td>\n",
       "      <td>1</td>\n",
       "      <td>0</td>\n",
       "      <td>113931.57</td>\n",
       "      <td>1</td>\n",
       "    </tr>\n",
       "    <tr>\n",
       "      <th>3</th>\n",
       "      <td>4</td>\n",
       "      <td>15701354</td>\n",
       "      <td>Boni</td>\n",
       "      <td>699</td>\n",
       "      <td>France</td>\n",
       "      <td>Female</td>\n",
       "      <td>39</td>\n",
       "      <td>1</td>\n",
       "      <td>0.00</td>\n",
       "      <td>2</td>\n",
       "      <td>0</td>\n",
       "      <td>0</td>\n",
       "      <td>93826.63</td>\n",
       "      <td>0</td>\n",
       "    </tr>\n",
       "    <tr>\n",
       "      <th>4</th>\n",
       "      <td>5</td>\n",
       "      <td>15737888</td>\n",
       "      <td>Mitchell</td>\n",
       "      <td>850</td>\n",
       "      <td>Spain</td>\n",
       "      <td>Female</td>\n",
       "      <td>43</td>\n",
       "      <td>2</td>\n",
       "      <td>125510.82</td>\n",
       "      <td>1</td>\n",
       "      <td>1</td>\n",
       "      <td>1</td>\n",
       "      <td>79084.10</td>\n",
       "      <td>0</td>\n",
       "    </tr>\n",
       "  </tbody>\n",
       "</table>\n",
       "</div>"
      ],
      "text/plain": [
       "   RowNumber  CustomerId   Surname  CreditScore Geography  Gender  Age  \\\n",
       "0          1    15634602  Hargrave          619    France  Female   42   \n",
       "1          2    15647311      Hill          608     Spain  Female   41   \n",
       "2          3    15619304      Onio          502    France  Female   42   \n",
       "3          4    15701354      Boni          699    France  Female   39   \n",
       "4          5    15737888  Mitchell          850     Spain  Female   43   \n",
       "\n",
       "   Tenure    Balance  NumOfProducts  HasCrCard  IsActiveMember  \\\n",
       "0       2       0.00              1          1               1   \n",
       "1       1   83807.86              1          0               1   \n",
       "2       8  159660.80              3          1               0   \n",
       "3       1       0.00              2          0               0   \n",
       "4       2  125510.82              1          1               1   \n",
       "\n",
       "   EstimatedSalary  Exited  \n",
       "0        101348.88       1  \n",
       "1        112542.58       0  \n",
       "2        113931.57       1  \n",
       "3         93826.63       0  \n",
       "4         79084.10       0  "
      ]
     },
     "execution_count": 2,
     "metadata": {},
     "output_type": "execute_result"
    }
   ],
   "source": [
    "dataset=pd.read_csv('telecom.csv')\n",
    "dataset.head()"
   ]
  },
  {
   "cell_type": "code",
   "execution_count": 3,
   "metadata": {},
   "outputs": [
    {
     "name": "stdout",
     "output_type": "stream",
     "text": [
      "<class 'pandas.core.frame.DataFrame'>\n",
      "RangeIndex: 10000 entries, 0 to 9999\n",
      "Data columns (total 14 columns):\n",
      " #   Column           Non-Null Count  Dtype  \n",
      "---  ------           --------------  -----  \n",
      " 0   RowNumber        10000 non-null  int64  \n",
      " 1   CustomerId       10000 non-null  int64  \n",
      " 2   Surname          10000 non-null  object \n",
      " 3   CreditScore      10000 non-null  int64  \n",
      " 4   Geography        10000 non-null  object \n",
      " 5   Gender           10000 non-null  object \n",
      " 6   Age              10000 non-null  int64  \n",
      " 7   Tenure           10000 non-null  int64  \n",
      " 8   Balance          10000 non-null  float64\n",
      " 9   NumOfProducts    10000 non-null  int64  \n",
      " 10  HasCrCard        10000 non-null  int64  \n",
      " 11  IsActiveMember   10000 non-null  int64  \n",
      " 12  EstimatedSalary  10000 non-null  float64\n",
      " 13  Exited           10000 non-null  int64  \n",
      "dtypes: float64(2), int64(9), object(3)\n",
      "memory usage: 1.1+ MB\n"
     ]
    }
   ],
   "source": [
    "dataset.info()"
   ]
  },
  {
   "cell_type": "code",
   "execution_count": 4,
   "metadata": {},
   "outputs": [
    {
     "data": {
      "text/html": [
       "<div>\n",
       "<style scoped>\n",
       "    .dataframe tbody tr th:only-of-type {\n",
       "        vertical-align: middle;\n",
       "    }\n",
       "\n",
       "    .dataframe tbody tr th {\n",
       "        vertical-align: top;\n",
       "    }\n",
       "\n",
       "    .dataframe thead th {\n",
       "        text-align: right;\n",
       "    }\n",
       "</style>\n",
       "<table border=\"1\" class=\"dataframe\">\n",
       "  <thead>\n",
       "    <tr style=\"text-align: right;\">\n",
       "      <th></th>\n",
       "      <th>RowNumber</th>\n",
       "      <th>CustomerId</th>\n",
       "      <th>CreditScore</th>\n",
       "      <th>Age</th>\n",
       "      <th>Tenure</th>\n",
       "      <th>Balance</th>\n",
       "      <th>NumOfProducts</th>\n",
       "      <th>HasCrCard</th>\n",
       "      <th>IsActiveMember</th>\n",
       "      <th>EstimatedSalary</th>\n",
       "      <th>Exited</th>\n",
       "    </tr>\n",
       "  </thead>\n",
       "  <tbody>\n",
       "    <tr>\n",
       "      <th>count</th>\n",
       "      <td>10000.00000</td>\n",
       "      <td>1.000000e+04</td>\n",
       "      <td>10000.000000</td>\n",
       "      <td>10000.000000</td>\n",
       "      <td>10000.000000</td>\n",
       "      <td>10000.000000</td>\n",
       "      <td>10000.000000</td>\n",
       "      <td>10000.00000</td>\n",
       "      <td>10000.000000</td>\n",
       "      <td>10000.000000</td>\n",
       "      <td>10000.000000</td>\n",
       "    </tr>\n",
       "    <tr>\n",
       "      <th>mean</th>\n",
       "      <td>5000.50000</td>\n",
       "      <td>1.569094e+07</td>\n",
       "      <td>650.528800</td>\n",
       "      <td>38.921800</td>\n",
       "      <td>5.012800</td>\n",
       "      <td>76485.889288</td>\n",
       "      <td>1.530200</td>\n",
       "      <td>0.70550</td>\n",
       "      <td>0.515100</td>\n",
       "      <td>100090.239881</td>\n",
       "      <td>0.203700</td>\n",
       "    </tr>\n",
       "    <tr>\n",
       "      <th>std</th>\n",
       "      <td>2886.89568</td>\n",
       "      <td>7.193619e+04</td>\n",
       "      <td>96.653299</td>\n",
       "      <td>10.487806</td>\n",
       "      <td>2.892174</td>\n",
       "      <td>62397.405202</td>\n",
       "      <td>0.581654</td>\n",
       "      <td>0.45584</td>\n",
       "      <td>0.499797</td>\n",
       "      <td>57510.492818</td>\n",
       "      <td>0.402769</td>\n",
       "    </tr>\n",
       "    <tr>\n",
       "      <th>min</th>\n",
       "      <td>1.00000</td>\n",
       "      <td>1.556570e+07</td>\n",
       "      <td>350.000000</td>\n",
       "      <td>18.000000</td>\n",
       "      <td>0.000000</td>\n",
       "      <td>0.000000</td>\n",
       "      <td>1.000000</td>\n",
       "      <td>0.00000</td>\n",
       "      <td>0.000000</td>\n",
       "      <td>11.580000</td>\n",
       "      <td>0.000000</td>\n",
       "    </tr>\n",
       "    <tr>\n",
       "      <th>25%</th>\n",
       "      <td>2500.75000</td>\n",
       "      <td>1.562853e+07</td>\n",
       "      <td>584.000000</td>\n",
       "      <td>32.000000</td>\n",
       "      <td>3.000000</td>\n",
       "      <td>0.000000</td>\n",
       "      <td>1.000000</td>\n",
       "      <td>0.00000</td>\n",
       "      <td>0.000000</td>\n",
       "      <td>51002.110000</td>\n",
       "      <td>0.000000</td>\n",
       "    </tr>\n",
       "    <tr>\n",
       "      <th>50%</th>\n",
       "      <td>5000.50000</td>\n",
       "      <td>1.569074e+07</td>\n",
       "      <td>652.000000</td>\n",
       "      <td>37.000000</td>\n",
       "      <td>5.000000</td>\n",
       "      <td>97198.540000</td>\n",
       "      <td>1.000000</td>\n",
       "      <td>1.00000</td>\n",
       "      <td>1.000000</td>\n",
       "      <td>100193.915000</td>\n",
       "      <td>0.000000</td>\n",
       "    </tr>\n",
       "    <tr>\n",
       "      <th>75%</th>\n",
       "      <td>7500.25000</td>\n",
       "      <td>1.575323e+07</td>\n",
       "      <td>718.000000</td>\n",
       "      <td>44.000000</td>\n",
       "      <td>7.000000</td>\n",
       "      <td>127644.240000</td>\n",
       "      <td>2.000000</td>\n",
       "      <td>1.00000</td>\n",
       "      <td>1.000000</td>\n",
       "      <td>149388.247500</td>\n",
       "      <td>0.000000</td>\n",
       "    </tr>\n",
       "    <tr>\n",
       "      <th>max</th>\n",
       "      <td>10000.00000</td>\n",
       "      <td>1.581569e+07</td>\n",
       "      <td>850.000000</td>\n",
       "      <td>92.000000</td>\n",
       "      <td>10.000000</td>\n",
       "      <td>250898.090000</td>\n",
       "      <td>4.000000</td>\n",
       "      <td>1.00000</td>\n",
       "      <td>1.000000</td>\n",
       "      <td>199992.480000</td>\n",
       "      <td>1.000000</td>\n",
       "    </tr>\n",
       "  </tbody>\n",
       "</table>\n",
       "</div>"
      ],
      "text/plain": [
       "         RowNumber    CustomerId   CreditScore           Age        Tenure  \\\n",
       "count  10000.00000  1.000000e+04  10000.000000  10000.000000  10000.000000   \n",
       "mean    5000.50000  1.569094e+07    650.528800     38.921800      5.012800   \n",
       "std     2886.89568  7.193619e+04     96.653299     10.487806      2.892174   \n",
       "min        1.00000  1.556570e+07    350.000000     18.000000      0.000000   \n",
       "25%     2500.75000  1.562853e+07    584.000000     32.000000      3.000000   \n",
       "50%     5000.50000  1.569074e+07    652.000000     37.000000      5.000000   \n",
       "75%     7500.25000  1.575323e+07    718.000000     44.000000      7.000000   \n",
       "max    10000.00000  1.581569e+07    850.000000     92.000000     10.000000   \n",
       "\n",
       "             Balance  NumOfProducts    HasCrCard  IsActiveMember  \\\n",
       "count   10000.000000   10000.000000  10000.00000    10000.000000   \n",
       "mean    76485.889288       1.530200      0.70550        0.515100   \n",
       "std     62397.405202       0.581654      0.45584        0.499797   \n",
       "min         0.000000       1.000000      0.00000        0.000000   \n",
       "25%         0.000000       1.000000      0.00000        0.000000   \n",
       "50%     97198.540000       1.000000      1.00000        1.000000   \n",
       "75%    127644.240000       2.000000      1.00000        1.000000   \n",
       "max    250898.090000       4.000000      1.00000        1.000000   \n",
       "\n",
       "       EstimatedSalary        Exited  \n",
       "count     10000.000000  10000.000000  \n",
       "mean     100090.239881      0.203700  \n",
       "std       57510.492818      0.402769  \n",
       "min          11.580000      0.000000  \n",
       "25%       51002.110000      0.000000  \n",
       "50%      100193.915000      0.000000  \n",
       "75%      149388.247500      0.000000  \n",
       "max      199992.480000      1.000000  "
      ]
     },
     "execution_count": 4,
     "metadata": {},
     "output_type": "execute_result"
    }
   ],
   "source": [
    "dataset.describe()"
   ]
  },
  {
   "cell_type": "code",
   "execution_count": 5,
   "metadata": {},
   "outputs": [
    {
     "data": {
      "text/plain": [
       "(10000, 14)"
      ]
     },
     "execution_count": 5,
     "metadata": {},
     "output_type": "execute_result"
    }
   ],
   "source": [
    "dataset.shape"
   ]
  },
  {
   "cell_type": "code",
   "execution_count": 6,
   "metadata": {},
   "outputs": [
    {
     "data": {
      "text/plain": [
       "RowNumber          0\n",
       "CustomerId         0\n",
       "Surname            0\n",
       "CreditScore        0\n",
       "Geography          0\n",
       "Gender             0\n",
       "Age                0\n",
       "Tenure             0\n",
       "Balance            0\n",
       "NumOfProducts      0\n",
       "HasCrCard          0\n",
       "IsActiveMember     0\n",
       "EstimatedSalary    0\n",
       "Exited             0\n",
       "dtype: int64"
      ]
     },
     "execution_count": 6,
     "metadata": {},
     "output_type": "execute_result"
    }
   ],
   "source": [
    "dataset.isnull().sum()"
   ]
  },
  {
   "cell_type": "code",
   "execution_count": 7,
   "metadata": {},
   "outputs": [
    {
     "data": {
      "text/plain": [
       "<matplotlib.axes._subplots.AxesSubplot at 0x7f09f27584e0>"
      ]
     },
     "execution_count": 7,
     "metadata": {},
     "output_type": "execute_result"
    },
    {
     "data": {
      "image/png": "[encoded data removed]",
      "text/plain": [
       "<Figure size 432x288 with 1 Axes>"
      ]
     },
     "metadata": {
      "needs_background": "light"
     },
     "output_type": "display_data"
    }
   ],
   "source": [
    "sns.countplot(x='Exited',hue='Gender',data=dataset)"
   ]
  },
  {
   "cell_type": "code",
   "execution_count": 8,
   "metadata": {},
   "outputs": [
    {
     "data": {
      "text/plain": [
       "<matplotlib.axes._subplots.AxesSubplot at 0x7f09f1ebe5c0>"
      ]
     },
     "execution_count": 8,
     "metadata": {},
     "output_type": "execute_result"
    },
    {
     "data": {
      "image/png": "[encoded data removed]",
      "text/plain": [
       "<Figure size 432x288 with 2 Axes>"
      ]
     },
     "metadata": {
      "needs_background": "light"
     },
     "output_type": "display_data"
    }
   ],
   "source": [
    "sns.heatmap(dataset.isnull())"
   ]
  },
  {
   "cell_type": "code",
   "execution_count": 9,
   "metadata": {},
   "outputs": [
    {
     "data": {
      "text/plain": [
       "Index(['RowNumber', 'CustomerId', 'Surname', 'CreditScore', 'Geography',\n",
       "       'Gender', 'Age', 'Tenure', 'Balance', 'NumOfProducts', 'HasCrCard',\n",
       "       'IsActiveMember', 'EstimatedSalary', 'Exited'],\n",
       "      dtype='object')"
      ]
     },
     "execution_count": 9,
     "metadata": {},
     "output_type": "execute_result"
    }
   ],
   "source": [
    "dataset.keys()"
   ]
  },
  {
   "cell_type": "code",
   "execution_count": 10,
   "metadata": {},
   "outputs": [],
   "source": [
    "dataset=dataset.drop(['RowNumber', 'CustomerId', 'Surname'],axis=1)"
   ]
  },
  {
   "cell_type": "code",
   "execution_count": 11,
   "metadata": {},
   "outputs": [
    {
     "data": {
      "text/html": [
       "<div>\n",
       "<style scoped>\n",
       "    .dataframe tbody tr th:only-of-type {\n",
       "        vertical-align: middle;\n",
       "    }\n",
       "\n",
       "    .dataframe tbody tr th {\n",
       "        vertical-align: top;\n",
       "    }\n",
       "\n",
       "    .dataframe thead th {\n",
       "        text-align: right;\n",
       "    }\n",
       "</style>\n",
       "<table border=\"1\" class=\"dataframe\">\n",
       "  <thead>\n",
       "    <tr style=\"text-align: right;\">\n",
       "      <th></th>\n",
       "      <th>CreditScore</th>\n",
       "      <th>Geography</th>\n",
       "      <th>Gender</th>\n",
       "      <th>Age</th>\n",
       "      <th>Tenure</th>\n",
       "      <th>Balance</th>\n",
       "      <th>NumOfProducts</th>\n",
       "      <th>HasCrCard</th>\n",
       "      <th>IsActiveMember</th>\n",
       "      <th>EstimatedSalary</th>\n",
       "      <th>Exited</th>\n",
       "    </tr>\n",
       "  </thead>\n",
       "  <tbody>\n",
       "    <tr>\n",
       "      <th>0</th>\n",
       "      <td>619</td>\n",
       "      <td>France</td>\n",
       "      <td>Female</td>\n",
       "      <td>42</td>\n",
       "      <td>2</td>\n",
       "      <td>0.00</td>\n",
       "      <td>1</td>\n",
       "      <td>1</td>\n",
       "      <td>1</td>\n",
       "      <td>101348.88</td>\n",
       "      <td>1</td>\n",
       "    </tr>\n",
       "    <tr>\n",
       "      <th>1</th>\n",
       "      <td>608</td>\n",
       "      <td>Spain</td>\n",
       "      <td>Female</td>\n",
       "      <td>41</td>\n",
       "      <td>1</td>\n",
       "      <td>83807.86</td>\n",
       "      <td>1</td>\n",
       "      <td>0</td>\n",
       "      <td>1</td>\n",
       "      <td>112542.58</td>\n",
       "      <td>0</td>\n",
       "    </tr>\n",
       "    <tr>\n",
       "      <th>2</th>\n",
       "      <td>502</td>\n",
       "      <td>France</td>\n",
       "      <td>Female</td>\n",
       "      <td>42</td>\n",
       "      <td>8</td>\n",
       "      <td>159660.80</td>\n",
       "      <td>3</td>\n",
       "      <td>1</td>\n",
       "      <td>0</td>\n",
       "      <td>113931.57</td>\n",
       "      <td>1</td>\n",
       "    </tr>\n",
       "    <tr>\n",
       "      <th>3</th>\n",
       "      <td>699</td>\n",
       "      <td>France</td>\n",
       "      <td>Female</td>\n",
       "      <td>39</td>\n",
       "      <td>1</td>\n",
       "      <td>0.00</td>\n",
       "      <td>2</td>\n",
       "      <td>0</td>\n",
       "      <td>0</td>\n",
       "      <td>93826.63</td>\n",
       "      <td>0</td>\n",
       "    </tr>\n",
       "    <tr>\n",
       "      <th>4</th>\n",
       "      <td>850</td>\n",
       "      <td>Spain</td>\n",
       "      <td>Female</td>\n",
       "      <td>43</td>\n",
       "      <td>2</td>\n",
       "      <td>125510.82</td>\n",
       "      <td>1</td>\n",
       "      <td>1</td>\n",
       "      <td>1</td>\n",
       "      <td>79084.10</td>\n",
       "      <td>0</td>\n",
       "    </tr>\n",
       "  </tbody>\n",
       "</table>\n",
       "</div>"
      ],
      "text/plain": [
       "   CreditScore Geography  Gender  Age  Tenure    Balance  NumOfProducts  \\\n",
       "0          619    France  Female   42       2       0.00              1   \n",
       "1          608     Spain  Female   41       1   83807.86              1   \n",
       "2          502    France  Female   42       8  159660.80              3   \n",
       "3          699    France  Female   39       1       0.00              2   \n",
       "4          850     Spain  Female   43       2  125510.82              1   \n",
       "\n",
       "   HasCrCard  IsActiveMember  EstimatedSalary  Exited  \n",
       "0          1               1        101348.88       1  \n",
       "1          0               1        112542.58       0  \n",
       "2          1               0        113931.57       1  \n",
       "3          0               0         93826.63       0  \n",
       "4          1               1         79084.10       0  "
      ]
     },
     "execution_count": 11,
     "metadata": {},
     "output_type": "execute_result"
    }
   ],
   "source": [
    "dataset.head()"
   ]
  },
  {
   "cell_type": "code",
   "execution_count": 12,
   "metadata": {},
   "outputs": [],
   "source": [
    "from sklearn.preprocessing import LabelEncoder\n",
    "from sklearn.model_selection import train_test_split\n",
    "from sklearn.preprocessing import MinMaxScaler"
   ]
  },
  {
   "cell_type": "code",
   "execution_count": 13,
   "metadata": {},
   "outputs": [],
   "source": [
    "lb1=LabelEncoder()"
   ]
  },
  {
   "cell_type": "code",
   "execution_count": 14,
   "metadata": {},
   "outputs": [],
   "source": [
    "lb2=LabelEncoder()"
   ]
  },
  {
   "cell_type": "code",
   "execution_count": 15,
   "metadata": {},
   "outputs": [
    {
     "data": {
      "text/plain": [
       "array(['France', 'Spain', 'Germany'], dtype=object)"
      ]
     },
     "execution_count": 15,
     "metadata": {},
     "output_type": "execute_result"
    }
   ],
   "source": [
    "dataset['Geography'].unique()"
   ]
  },
  {
   "cell_type": "code",
   "execution_count": 16,
   "metadata": {},
   "outputs": [],
   "source": [
    "dataset['Gender']=lb1.fit_transform(dataset['Gender'])\n",
    "dataset['Geography']=lb2.fit_transform(dataset['Geography'])"
   ]
  },
  {
   "cell_type": "code",
   "execution_count": 17,
   "metadata": {},
   "outputs": [
    {
     "data": {
      "text/html": [
       "<div>\n",
       "<style scoped>\n",
       "    .dataframe tbody tr th:only-of-type {\n",
       "        vertical-align: middle;\n",
       "    }\n",
       "\n",
       "    .dataframe tbody tr th {\n",
       "        vertical-align: top;\n",
       "    }\n",
       "\n",
       "    .dataframe thead th {\n",
       "        text-align: right;\n",
       "    }\n",
       "</style>\n",
       "<table border=\"1\" class=\"dataframe\">\n",
       "  <thead>\n",
       "    <tr style=\"text-align: right;\">\n",
       "      <th></th>\n",
       "      <th>CreditScore</th>\n",
       "      <th>Geography</th>\n",
       "      <th>Gender</th>\n",
       "      <th>Age</th>\n",
       "      <th>Tenure</th>\n",
       "      <th>Balance</th>\n",
       "      <th>NumOfProducts</th>\n",
       "      <th>HasCrCard</th>\n",
       "      <th>IsActiveMember</th>\n",
       "      <th>EstimatedSalary</th>\n",
       "      <th>Exited</th>\n",
       "    </tr>\n",
       "  </thead>\n",
       "  <tbody>\n",
       "    <tr>\n",
       "      <th>0</th>\n",
       "      <td>619</td>\n",
       "      <td>0</td>\n",
       "      <td>0</td>\n",
       "      <td>42</td>\n",
       "      <td>2</td>\n",
       "      <td>0.00</td>\n",
       "      <td>1</td>\n",
       "      <td>1</td>\n",
       "      <td>1</td>\n",
       "      <td>101348.88</td>\n",
       "      <td>1</td>\n",
       "    </tr>\n",
       "    <tr>\n",
       "      <th>1</th>\n",
       "      <td>608</td>\n",
       "      <td>2</td>\n",
       "      <td>0</td>\n",
       "      <td>41</td>\n",
       "      <td>1</td>\n",
       "      <td>83807.86</td>\n",
       "      <td>1</td>\n",
       "      <td>0</td>\n",
       "      <td>1</td>\n",
       "      <td>112542.58</td>\n",
       "      <td>0</td>\n",
       "    </tr>\n",
       "    <tr>\n",
       "      <th>2</th>\n",
       "      <td>502</td>\n",
       "      <td>0</td>\n",
       "      <td>0</td>\n",
       "      <td>42</td>\n",
       "      <td>8</td>\n",
       "      <td>159660.80</td>\n",
       "      <td>3</td>\n",
       "      <td>1</td>\n",
       "      <td>0</td>\n",
       "      <td>113931.57</td>\n",
       "      <td>1</td>\n",
       "    </tr>\n",
       "    <tr>\n",
       "      <th>3</th>\n",
       "      <td>699</td>\n",
       "      <td>0</td>\n",
       "      <td>0</td>\n",
       "      <td>39</td>\n",
       "      <td>1</td>\n",
       "      <td>0.00</td>\n",
       "      <td>2</td>\n",
       "      <td>0</td>\n",
       "      <td>0</td>\n",
       "      <td>93826.63</td>\n",
       "      <td>0</td>\n",
       "    </tr>\n",
       "    <tr>\n",
       "      <th>4</th>\n",
       "      <td>850</td>\n",
       "      <td>2</td>\n",
       "      <td>0</td>\n",
       "      <td>43</td>\n",
       "      <td>2</td>\n",
       "      <td>125510.82</td>\n",
       "      <td>1</td>\n",
       "      <td>1</td>\n",
       "      <td>1</td>\n",
       "      <td>79084.10</td>\n",
       "      <td>0</td>\n",
       "    </tr>\n",
       "  </tbody>\n",
       "</table>\n",
       "</div>"
      ],
      "text/plain": [
       "   CreditScore  Geography  Gender  Age  Tenure    Balance  NumOfProducts  \\\n",
       "0          619          0       0   42       2       0.00              1   \n",
       "1          608          2       0   41       1   83807.86              1   \n",
       "2          502          0       0   42       8  159660.80              3   \n",
       "3          699          0       0   39       1       0.00              2   \n",
       "4          850          2       0   43       2  125510.82              1   \n",
       "\n",
       "   HasCrCard  IsActiveMember  EstimatedSalary  Exited  \n",
       "0          1               1        101348.88       1  \n",
       "1          0               1        112542.58       0  \n",
       "2          1               0        113931.57       1  \n",
       "3          0               0         93826.63       0  \n",
       "4          1               1         79084.10       0  "
      ]
     },
     "execution_count": 17,
     "metadata": {},
     "output_type": "execute_result"
    }
   ],
   "source": [
    "dataset.head()"
   ]
  },
  {
   "cell_type": "code",
   "execution_count": 18,
   "metadata": {},
   "outputs": [
    {
     "data": {
      "text/plain": [
       "array([1, 3, 2, 4])"
      ]
     },
     "execution_count": 18,
     "metadata": {},
     "output_type": "execute_result"
    }
   ],
   "source": [
    "dataset['NumOfProducts'].unique()"
   ]
  },
  {
   "cell_type": "code",
   "execution_count": 19,
   "metadata": {},
   "outputs": [
    {
     "data": {
      "text/plain": [
       "array([ 2,  1,  8,  7,  4,  6,  3, 10,  5,  9,  0])"
      ]
     },
     "execution_count": 19,
     "metadata": {},
     "output_type": "execute_result"
    }
   ],
   "source": [
    "dataset['Tenure'].unique()"
   ]
  },
  {
   "cell_type": "code",
   "execution_count": 20,
   "metadata": {},
   "outputs": [
    {
     "data": {
      "text/plain": [
       "<seaborn.axisgrid.FacetGrid at 0x7f09f0bc90f0>"
      ]
     },
     "execution_count": 20,
     "metadata": {},
     "output_type": "execute_result"
    },
    {
     "data": {
      "image/png": "[encoded data removed]",
      "text/plain": [
       "<Figure size 427.375x360 with 1 Axes>"
      ]
     },
     "metadata": {
      "needs_background": "light"
     },
     "output_type": "display_data"
    }
   ],
   "source": [
    "sns.relplot(x='Balance',y='EstimatedSalary',hue='Exited',data=dataset)"
   ]
  },
  {
   "cell_type": "code",
   "execution_count": 21,
   "metadata": {},
   "outputs": [
    {
     "data": {
      "text/html": [
       "<div>\n",
       "<style scoped>\n",
       "    .dataframe tbody tr th:only-of-type {\n",
       "        vertical-align: middle;\n",
       "    }\n",
       "\n",
       "    .dataframe tbody tr th {\n",
       "        vertical-align: top;\n",
       "    }\n",
       "\n",
       "    .dataframe thead th {\n",
       "        text-align: right;\n",
       "    }\n",
       "</style>\n",
       "<table border=\"1\" class=\"dataframe\">\n",
       "  <thead>\n",
       "    <tr style=\"text-align: right;\">\n",
       "      <th></th>\n",
       "      <th>CreditScore</th>\n",
       "      <th>Geography</th>\n",
       "      <th>Gender</th>\n",
       "      <th>Age</th>\n",
       "      <th>Tenure</th>\n",
       "      <th>Balance</th>\n",
       "      <th>NumOfProducts</th>\n",
       "      <th>HasCrCard</th>\n",
       "      <th>IsActiveMember</th>\n",
       "      <th>EstimatedSalary</th>\n",
       "    </tr>\n",
       "  </thead>\n",
       "  <tbody>\n",
       "    <tr>\n",
       "      <th>0</th>\n",
       "      <td>619</td>\n",
       "      <td>0</td>\n",
       "      <td>0</td>\n",
       "      <td>42</td>\n",
       "      <td>2</td>\n",
       "      <td>0.00</td>\n",
       "      <td>1</td>\n",
       "      <td>1</td>\n",
       "      <td>1</td>\n",
       "      <td>101348.88</td>\n",
       "    </tr>\n",
       "    <tr>\n",
       "      <th>1</th>\n",
       "      <td>608</td>\n",
       "      <td>2</td>\n",
       "      <td>0</td>\n",
       "      <td>41</td>\n",
       "      <td>1</td>\n",
       "      <td>83807.86</td>\n",
       "      <td>1</td>\n",
       "      <td>0</td>\n",
       "      <td>1</td>\n",
       "      <td>112542.58</td>\n",
       "    </tr>\n",
       "    <tr>\n",
       "      <th>2</th>\n",
       "      <td>502</td>\n",
       "      <td>0</td>\n",
       "      <td>0</td>\n",
       "      <td>42</td>\n",
       "      <td>8</td>\n",
       "      <td>159660.80</td>\n",
       "      <td>3</td>\n",
       "      <td>1</td>\n",
       "      <td>0</td>\n",
       "      <td>113931.57</td>\n",
       "    </tr>\n",
       "    <tr>\n",
       "      <th>3</th>\n",
       "      <td>699</td>\n",
       "      <td>0</td>\n",
       "      <td>0</td>\n",
       "      <td>39</td>\n",
       "      <td>1</td>\n",
       "      <td>0.00</td>\n",
       "      <td>2</td>\n",
       "      <td>0</td>\n",
       "      <td>0</td>\n",
       "      <td>93826.63</td>\n",
       "    </tr>\n",
       "    <tr>\n",
       "      <th>4</th>\n",
       "      <td>850</td>\n",
       "      <td>2</td>\n",
       "      <td>0</td>\n",
       "      <td>43</td>\n",
       "      <td>2</td>\n",
       "      <td>125510.82</td>\n",
       "      <td>1</td>\n",
       "      <td>1</td>\n",
       "      <td>1</td>\n",
       "      <td>79084.10</td>\n",
       "    </tr>\n",
       "    <tr>\n",
       "      <th>...</th>\n",
       "      <td>...</td>\n",
       "      <td>...</td>\n",
       "      <td>...</td>\n",
       "      <td>...</td>\n",
       "      <td>...</td>\n",
       "      <td>...</td>\n",
       "      <td>...</td>\n",
       "      <td>...</td>\n",
       "      <td>...</td>\n",
       "      <td>...</td>\n",
       "    </tr>\n",
       "    <tr>\n",
       "      <th>9995</th>\n",
       "      <td>771</td>\n",
       "      <td>0</td>\n",
       "      <td>1</td>\n",
       "      <td>39</td>\n",
       "      <td>5</td>\n",
       "      <td>0.00</td>\n",
       "      <td>2</td>\n",
       "      <td>1</td>\n",
       "      <td>0</td>\n",
       "      <td>96270.64</td>\n",
       "    </tr>\n",
       "    <tr>\n",
       "      <th>9996</th>\n",
       "      <td>516</td>\n",
       "      <td>0</td>\n",
       "      <td>1</td>\n",
       "      <td>35</td>\n",
       "      <td>10</td>\n",
       "      <td>57369.61</td>\n",
       "      <td>1</td>\n",
       "      <td>1</td>\n",
       "      <td>1</td>\n",
       "      <td>101699.77</td>\n",
       "    </tr>\n",
       "    <tr>\n",
       "      <th>9997</th>\n",
       "      <td>709</td>\n",
       "      <td>0</td>\n",
       "      <td>0</td>\n",
       "      <td>36</td>\n",
       "      <td>7</td>\n",
       "      <td>0.00</td>\n",
       "      <td>1</td>\n",
       "      <td>0</td>\n",
       "      <td>1</td>\n",
       "      <td>42085.58</td>\n",
       "    </tr>\n",
       "    <tr>\n",
       "      <th>9998</th>\n",
       "      <td>772</td>\n",
       "      <td>1</td>\n",
       "      <td>1</td>\n",
       "      <td>42</td>\n",
       "      <td>3</td>\n",
       "      <td>75075.31</td>\n",
       "      <td>2</td>\n",
       "      <td>1</td>\n",
       "      <td>0</td>\n",
       "      <td>92888.52</td>\n",
       "    </tr>\n",
       "    <tr>\n",
       "      <th>9999</th>\n",
       "      <td>792</td>\n",
       "      <td>0</td>\n",
       "      <td>0</td>\n",
       "      <td>28</td>\n",
       "      <td>4</td>\n",
       "      <td>130142.79</td>\n",
       "      <td>1</td>\n",
       "      <td>1</td>\n",
       "      <td>0</td>\n",
       "      <td>38190.78</td>\n",
       "    </tr>\n",
       "  </tbody>\n",
       "</table>\n",
       "<p>10000 rows × 10 columns</p>\n",
       "</div>"
      ],
      "text/plain": [
       "      CreditScore  Geography  Gender  Age  Tenure    Balance  NumOfProducts  \\\n",
       "0             619          0       0   42       2       0.00              1   \n",
       "1             608          2       0   41       1   83807.86              1   \n",
       "2             502          0       0   42       8  159660.80              3   \n",
       "3             699          0       0   39       1       0.00              2   \n",
       "4             850          2       0   43       2  125510.82              1   \n",
       "...           ...        ...     ...  ...     ...        ...            ...   \n",
       "9995          771          0       1   39       5       0.00              2   \n",
       "9996          516          0       1   35      10   57369.61              1   \n",
       "9997          709          0       0   36       7       0.00              1   \n",
       "9998          772          1       1   42       3   75075.31              2   \n",
       "9999          792          0       0   28       4  130142.79              1   \n",
       "\n",
       "      HasCrCard  IsActiveMember  EstimatedSalary  \n",
       "0             1               1        101348.88  \n",
       "1             0               1        112542.58  \n",
       "2             1               0        113931.57  \n",
       "3             0               0         93826.63  \n",
       "4             1               1         79084.10  \n",
       "...         ...             ...              ...  \n",
       "9995          1               0         96270.64  \n",
       "9996          1               1        101699.77  \n",
       "9997          0               1         42085.58  \n",
       "9998          1               0         92888.52  \n",
       "9999          1               0         38190.78  \n",
       "\n",
       "[10000 rows x 10 columns]"
      ]
     },
     "execution_count": 21,
     "metadata": {},
     "output_type": "execute_result"
    }
   ],
   "source": [
    "data_in=dataset.iloc[:,:-1]\n",
    "data_in"
   ]
  },
  {
   "cell_type": "code",
   "execution_count": 22,
   "metadata": {},
   "outputs": [
    {
     "data": {
      "text/plain": [
       "0       1\n",
       "1       0\n",
       "2       1\n",
       "3       0\n",
       "4       0\n",
       "       ..\n",
       "9995    0\n",
       "9996    0\n",
       "9997    1\n",
       "9998    1\n",
       "9999    0\n",
       "Name: Exited, Length: 10000, dtype: int64"
      ]
     },
     "execution_count": 22,
     "metadata": {},
     "output_type": "execute_result"
    }
   ],
   "source": [
    "data_out=dataset.iloc[:,-1]\n",
    "data_out"
   ]
  },
  {
   "cell_type": "code",
   "execution_count": 23,
   "metadata": {},
   "outputs": [
    {
     "name": "stdout",
     "output_type": "stream",
     "text": [
      "(10000, 10)\n",
      "(10000,)\n"
     ]
    }
   ],
   "source": [
    "print(data_in.shape)\n",
    "print(data_out.shape)"
   ]
  },
  {
   "cell_type": "code",
   "execution_count": 24,
   "metadata": {},
   "outputs": [],
   "source": [
    "sc=MinMaxScaler(feature_range=(0,1))"
   ]
  },
  {
   "cell_type": "code",
   "execution_count": 25,
   "metadata": {},
   "outputs": [],
   "source": [
    "data_in=sc.fit_transform(data_in)"
   ]
  },
  {
   "cell_type": "code",
   "execution_count": 26,
   "metadata": {},
   "outputs": [
    {
     "data": {
      "text/plain": [
       "array([[0.538     , 0.        , 0.        , ..., 1.        , 1.        ,\n",
       "        0.50673489],\n",
       "       [0.516     , 1.        , 0.        , ..., 0.        , 1.        ,\n",
       "        0.56270874],\n",
       "       [0.304     , 0.        , 0.        , ..., 1.        , 0.        ,\n",
       "        0.56965435],\n",
       "       ...,\n",
       "       [0.718     , 0.        , 0.        , ..., 0.        , 1.        ,\n",
       "        0.21039009],\n",
       "       [0.844     , 0.5       , 1.        , ..., 1.        , 0.        ,\n",
       "        0.46442905],\n",
       "       [0.884     , 0.        , 0.        , ..., 1.        , 0.        ,\n",
       "        0.19091423]])"
      ]
     },
     "execution_count": 26,
     "metadata": {},
     "output_type": "execute_result"
    }
   ],
   "source": [
    "data_in"
   ]
  },
  {
   "cell_type": "code",
   "execution_count": 29,
   "metadata": {},
   "outputs": [],
   "source": [
    "keys=dataset.keys()[:-1]"
   ]
  },
  {
   "cell_type": "code",
   "execution_count": 30,
   "metadata": {},
   "outputs": [
    {
     "data": {
      "text/plain": [
       "Index(['CreditScore', 'Geography', 'Gender', 'Age', 'Tenure', 'Balance',\n",
       "       'NumOfProducts', 'HasCrCard', 'IsActiveMember', 'EstimatedSalary'],\n",
       "      dtype='object')"
      ]
     },
     "execution_count": 30,
     "metadata": {},
     "output_type": "execute_result"
    }
   ],
   "source": [
    "keys"
   ]
  },
  {
   "cell_type": "code",
   "execution_count": 31,
   "metadata": {},
   "outputs": [],
   "source": [
    "dici={}\n",
    "for i in range(len(keys)):\n",
    "    dici.update({keys[i]:data_in[:,i]})"
   ]
  },
  {
   "cell_type": "code",
   "execution_count": 32,
   "metadata": {},
   "outputs": [
    {
     "data": {
      "text/html": [
       "<div>\n",
       "<style scoped>\n",
       "    .dataframe tbody tr th:only-of-type {\n",
       "        vertical-align: middle;\n",
       "    }\n",
       "\n",
       "    .dataframe tbody tr th {\n",
       "        vertical-align: top;\n",
       "    }\n",
       "\n",
       "    .dataframe thead th {\n",
       "        text-align: right;\n",
       "    }\n",
       "</style>\n",
       "<table border=\"1\" class=\"dataframe\">\n",
       "  <thead>\n",
       "    <tr style=\"text-align: right;\">\n",
       "      <th></th>\n",
       "      <th>CreditScore</th>\n",
       "      <th>Geography</th>\n",
       "      <th>Gender</th>\n",
       "      <th>Age</th>\n",
       "      <th>Tenure</th>\n",
       "      <th>Balance</th>\n",
       "      <th>NumOfProducts</th>\n",
       "      <th>HasCrCard</th>\n",
       "      <th>IsActiveMember</th>\n",
       "      <th>EstimatedSalary</th>\n",
       "    </tr>\n",
       "  </thead>\n",
       "  <tbody>\n",
       "    <tr>\n",
       "      <th>0</th>\n",
       "      <td>0.538</td>\n",
       "      <td>0.0</td>\n",
       "      <td>0.0</td>\n",
       "      <td>0.324324</td>\n",
       "      <td>0.2</td>\n",
       "      <td>0.000000</td>\n",
       "      <td>0.000000</td>\n",
       "      <td>1.0</td>\n",
       "      <td>1.0</td>\n",
       "      <td>0.506735</td>\n",
       "    </tr>\n",
       "    <tr>\n",
       "      <th>1</th>\n",
       "      <td>0.516</td>\n",
       "      <td>1.0</td>\n",
       "      <td>0.0</td>\n",
       "      <td>0.310811</td>\n",
       "      <td>0.1</td>\n",
       "      <td>0.334031</td>\n",
       "      <td>0.000000</td>\n",
       "      <td>0.0</td>\n",
       "      <td>1.0</td>\n",
       "      <td>0.562709</td>\n",
       "    </tr>\n",
       "    <tr>\n",
       "      <th>2</th>\n",
       "      <td>0.304</td>\n",
       "      <td>0.0</td>\n",
       "      <td>0.0</td>\n",
       "      <td>0.324324</td>\n",
       "      <td>0.8</td>\n",
       "      <td>0.636357</td>\n",
       "      <td>0.666667</td>\n",
       "      <td>1.0</td>\n",
       "      <td>0.0</td>\n",
       "      <td>0.569654</td>\n",
       "    </tr>\n",
       "    <tr>\n",
       "      <th>3</th>\n",
       "      <td>0.698</td>\n",
       "      <td>0.0</td>\n",
       "      <td>0.0</td>\n",
       "      <td>0.283784</td>\n",
       "      <td>0.1</td>\n",
       "      <td>0.000000</td>\n",
       "      <td>0.333333</td>\n",
       "      <td>0.0</td>\n",
       "      <td>0.0</td>\n",
       "      <td>0.469120</td>\n",
       "    </tr>\n",
       "    <tr>\n",
       "      <th>4</th>\n",
       "      <td>1.000</td>\n",
       "      <td>1.0</td>\n",
       "      <td>0.0</td>\n",
       "      <td>0.337838</td>\n",
       "      <td>0.2</td>\n",
       "      <td>0.500246</td>\n",
       "      <td>0.000000</td>\n",
       "      <td>1.0</td>\n",
       "      <td>1.0</td>\n",
       "      <td>0.395400</td>\n",
       "    </tr>\n",
       "  </tbody>\n",
       "</table>\n",
       "</div>"
      ],
      "text/plain": [
       "   CreditScore  Geography  Gender       Age  Tenure   Balance  NumOfProducts  \\\n",
       "0        0.538        0.0     0.0  0.324324     0.2  0.000000       0.000000   \n",
       "1        0.516        1.0     0.0  0.310811     0.1  0.334031       0.000000   \n",
       "2        0.304        0.0     0.0  0.324324     0.8  0.636357       0.666667   \n",
       "3        0.698        0.0     0.0  0.283784     0.1  0.000000       0.333333   \n",
       "4        1.000        1.0     0.0  0.337838     0.2  0.500246       0.000000   \n",
       "\n",
       "   HasCrCard  IsActiveMember  EstimatedSalary  \n",
       "0        1.0             1.0         0.506735  \n",
       "1        0.0             1.0         0.562709  \n",
       "2        1.0             0.0         0.569654  \n",
       "3        0.0             0.0         0.469120  \n",
       "4        1.0             1.0         0.395400  "
      ]
     },
     "execution_count": 32,
     "metadata": {},
     "output_type": "execute_result"
    }
   ],
   "source": [
    "final_data=pd.DataFrame(dici)\n",
    "final_data.head()"
   ]
  },
  {
   "cell_type": "code",
   "execution_count": 33,
   "metadata": {},
   "outputs": [],
   "source": [
    "final_data=pd.concat([dataset.iloc[:,-1],final_data],axis=1)"
   ]
  },
  {
   "cell_type": "code",
   "execution_count": 34,
   "metadata": {},
   "outputs": [
    {
     "data": {
      "text/html": [
       "<div>\n",
       "<style scoped>\n",
       "    .dataframe tbody tr th:only-of-type {\n",
       "        vertical-align: middle;\n",
       "    }\n",
       "\n",
       "    .dataframe tbody tr th {\n",
       "        vertical-align: top;\n",
       "    }\n",
       "\n",
       "    .dataframe thead th {\n",
       "        text-align: right;\n",
       "    }\n",
       "</style>\n",
       "<table border=\"1\" class=\"dataframe\">\n",
       "  <thead>\n",
       "    <tr style=\"text-align: right;\">\n",
       "      <th></th>\n",
       "      <th>Exited</th>\n",
       "      <th>CreditScore</th>\n",
       "      <th>Geography</th>\n",
       "      <th>Gender</th>\n",
       "      <th>Age</th>\n",
       "      <th>Tenure</th>\n",
       "      <th>Balance</th>\n",
       "      <th>NumOfProducts</th>\n",
       "      <th>HasCrCard</th>\n",
       "      <th>IsActiveMember</th>\n",
       "      <th>EstimatedSalary</th>\n",
       "    </tr>\n",
       "  </thead>\n",
       "  <tbody>\n",
       "    <tr>\n",
       "      <th>0</th>\n",
       "      <td>1</td>\n",
       "      <td>0.538</td>\n",
       "      <td>0.0</td>\n",
       "      <td>0.0</td>\n",
       "      <td>0.324324</td>\n",
       "      <td>0.2</td>\n",
       "      <td>0.000000</td>\n",
       "      <td>0.000000</td>\n",
       "      <td>1.0</td>\n",
       "      <td>1.0</td>\n",
       "      <td>0.506735</td>\n",
       "    </tr>\n",
       "    <tr>\n",
       "      <th>1</th>\n",
       "      <td>0</td>\n",
       "      <td>0.516</td>\n",
       "      <td>1.0</td>\n",
       "      <td>0.0</td>\n",
       "      <td>0.310811</td>\n",
       "      <td>0.1</td>\n",
       "      <td>0.334031</td>\n",
       "      <td>0.000000</td>\n",
       "      <td>0.0</td>\n",
       "      <td>1.0</td>\n",
       "      <td>0.562709</td>\n",
       "    </tr>\n",
       "    <tr>\n",
       "      <th>2</th>\n",
       "      <td>1</td>\n",
       "      <td>0.304</td>\n",
       "      <td>0.0</td>\n",
       "      <td>0.0</td>\n",
       "      <td>0.324324</td>\n",
       "      <td>0.8</td>\n",
       "      <td>0.636357</td>\n",
       "      <td>0.666667</td>\n",
       "      <td>1.0</td>\n",
       "      <td>0.0</td>\n",
       "      <td>0.569654</td>\n",
       "    </tr>\n",
       "    <tr>\n",
       "      <th>3</th>\n",
       "      <td>0</td>\n",
       "      <td>0.698</td>\n",
       "      <td>0.0</td>\n",
       "      <td>0.0</td>\n",
       "      <td>0.283784</td>\n",
       "      <td>0.1</td>\n",
       "      <td>0.000000</td>\n",
       "      <td>0.333333</td>\n",
       "      <td>0.0</td>\n",
       "      <td>0.0</td>\n",
       "      <td>0.469120</td>\n",
       "    </tr>\n",
       "    <tr>\n",
       "      <th>4</th>\n",
       "      <td>0</td>\n",
       "      <td>1.000</td>\n",
       "      <td>1.0</td>\n",
       "      <td>0.0</td>\n",
       "      <td>0.337838</td>\n",
       "      <td>0.2</td>\n",
       "      <td>0.500246</td>\n",
       "      <td>0.000000</td>\n",
       "      <td>1.0</td>\n",
       "      <td>1.0</td>\n",
       "      <td>0.395400</td>\n",
       "    </tr>\n",
       "  </tbody>\n",
       "</table>\n",
       "</div>"
      ],
      "text/plain": [
       "   Exited  CreditScore  Geography  Gender       Age  Tenure   Balance  \\\n",
       "0       1        0.538        0.0     0.0  0.324324     0.2  0.000000   \n",
       "1       0        0.516        1.0     0.0  0.310811     0.1  0.334031   \n",
       "2       1        0.304        0.0     0.0  0.324324     0.8  0.636357   \n",
       "3       0        0.698        0.0     0.0  0.283784     0.1  0.000000   \n",
       "4       0        1.000        1.0     0.0  0.337838     0.2  0.500246   \n",
       "\n",
       "   NumOfProducts  HasCrCard  IsActiveMember  EstimatedSalary  \n",
       "0       0.000000        1.0             1.0         0.506735  \n",
       "1       0.000000        0.0             1.0         0.562709  \n",
       "2       0.666667        1.0             0.0         0.569654  \n",
       "3       0.333333        0.0             0.0         0.469120  \n",
       "4       0.000000        1.0             1.0         0.395400  "
      ]
     },
     "execution_count": 34,
     "metadata": {},
     "output_type": "execute_result"
    }
   ],
   "source": [
    "final_data.head()"
   ]
  },
  {
   "cell_type": "code",
   "execution_count": 35,
   "metadata": {},
   "outputs": [],
   "source": [
    "train,test=train_test_split(final_data,test_size=0.2)"
   ]
  },
  {
   "cell_type": "code",
   "execution_count": 36,
   "metadata": {},
   "outputs": [
    {
     "name": "stdout",
     "output_type": "stream",
     "text": [
      "(8000, 11)\n",
      "(2000, 11)\n"
     ]
    }
   ],
   "source": [
    "print(train.shape)\n",
    "print(test.shape)"
   ]
  },
  {
   "cell_type": "code",
   "execution_count": 37,
   "metadata": {},
   "outputs": [],
   "source": [
    "import boto3,re,os,json,sagemaker\n",
    "from sagemaker import get_execution_role"
   ]
  },
  {
   "cell_type": "code",
   "execution_count": 38,
   "metadata": {},
   "outputs": [
    {
     "name": "stdout",
     "output_type": "stream",
     "text": [
      "arn:aws:iam::846319470919:role/service-role/AmazonSageMaker-ExecutionRole-20200910T165326\n"
     ]
    }
   ],
   "source": [
    "role=get_execution_role()\n",
    "print(role)"
   ]
  },
  {
   "cell_type": "code",
   "execution_count": 39,
   "metadata": {},
   "outputs": [
    {
     "name": "stdout",
     "output_type": "stream",
     "text": [
      "us-east-1\n"
     ]
    }
   ],
   "source": [
    "my_region=boto3.session.Session().region_name\n",
    "print(my_region)"
   ]
  },
  {
   "cell_type": "code",
   "execution_count": 40,
   "metadata": {},
   "outputs": [],
   "source": [
    "containers = {'us-west-2': '433757028032.dkr.ecr.us-west-2.amazonaws.com/xgboost:latest',\n",
    "              'us-east-1': '811284229777.dkr.ecr.us-east-1.amazonaws.com/xgboost:latest',\n",
    "              'us-east-2': '825641698319.dkr.ecr.us-east-2.amazonaws.com/xgboost:latest',\n",
    "              'eu-west-1': '685385470294.dkr.ecr.eu-west-1.amazonaws.com/xgboost:latest'}"
   ]
  },
  {
   "cell_type": "code",
   "execution_count": 41,
   "metadata": {},
   "outputs": [
    {
     "name": "stdout",
     "output_type": "stream",
     "text": [
      "811284229777.dkr.ecr.us-east-1.amazonaws.com/xgboost:latest\n"
     ]
    }
   ],
   "source": [
    "print(containers[my_region])"
   ]
  },
  {
   "cell_type": "code",
   "execution_count": 42,
   "metadata": {},
   "outputs": [],
   "source": [
    "prefix='sagemaker/Telecom'\n",
    "bucket_name='buildathonproject1'"
   ]
  },
  {
   "cell_type": "code",
   "execution_count": 43,
   "metadata": {},
   "outputs": [
    {
     "name": "stderr",
     "output_type": "stream",
     "text": [
      "'s3_input' class will be renamed to 'TrainingInput' in SageMaker Python SDK v2.\n"
     ]
    }
   ],
   "source": [
    "final_data.to_csv('train.csv',index=False,header=False)\n",
    "boto3.Session().resource('s3').Bucket(bucket_name).Object(os.path.join(prefix,'train/train.csv')).upload_file('train.csv')\n",
    "s3_input_train=sagemaker.s3_input(s3_data='s3://{}/{}/train'.format(bucket_name, prefix),content_type='csv')"
   ]
  },
  {
   "cell_type": "code",
   "execution_count": 44,
   "metadata": {},
   "outputs": [
    {
     "name": "stderr",
     "output_type": "stream",
     "text": [
      "Parameter image_name will be renamed to image_uri in SageMaker Python SDK v2.\n"
     ]
    }
   ],
   "source": [
    "sess=sagemaker.Session()\n",
    "telecom_model=sagemaker.estimator.Estimator(containers[my_region],role,train_instance_count=1,train_instance_type='ml.m5.large',output_path='s3://{}/{}/output'.format(bucket_name,prefix),sagemaker_session=sess)\n",
    "telecom_model.set_hyperparameters(max_depth=5,eta=0.2,gamma=4,min_child_weight=6,subsample=0.8,silent=0,objective='binary:logistic',num_round=100)"
   ]
  },
  {
   "cell_type": "code",
   "execution_count": 45,
   "metadata": {},
   "outputs": [
    {
     "name": "stdout",
     "output_type": "stream",
     "text": [
      "2020-09-30 07:50:56 Starting - Starting the training job...\n",
      "2020-09-30 07:50:59 Starting - Launching requested ML instances......\n",
      "2020-09-30 07:52:21 Starting - Preparing the instances for training......\n",
      "2020-09-30 07:53:12 Downloading - Downloading input data...\n",
      "2020-09-30 07:53:48 Training - Downloading the training image..\u001b[34mArguments: train\u001b[0m\n",
      "\u001b[34m[2020-09-30:07:54:03:INFO] Running standalone xgboost training.\u001b[0m\n",
      "\u001b[34m[2020-09-30:07:54:03:INFO] Path /opt/ml/input/data/validation does not exist!\u001b[0m\n",
      "\u001b[34m[2020-09-30:07:54:03:INFO] File size need to be processed in the node: 0.99mb. Available memory size in the node: 172.35mb\u001b[0m\n",
      "\u001b[34m[2020-09-30:07:54:03:INFO] Determined delimiter of CSV input is ','\u001b[0m\n",
      "\u001b[34m[07:54:03] S3DistributionType set as FullyReplicated\u001b[0m\n",
      "\u001b[34m[07:54:03] 10000x10 matrix with 100000 entries loaded from /opt/ml/input/data/train?format=csv&label_column=0&delimiter=,\u001b[0m\n",
      "\u001b[34m[07:54:03] src/tree/updater_prune.cc:74: tree pruning end, 1 roots, 38 extra nodes, 6 pruned nodes, max_depth=5\u001b[0m\n",
      "\u001b[34m[0]#011train-error:0.1448\u001b[0m\n",
      "\u001b[34m[07:54:03] src/tree/updater_prune.cc:74: tree pruning end, 1 roots, 32 extra nodes, 12 pruned nodes, max_depth=5\u001b[0m\n",
      "\u001b[34m[1]#011train-error:0.144\u001b[0m\n",
      "\u001b[34m[07:54:03] src/tree/updater_prune.cc:74: tree pruning end, 1 roots, 38 extra nodes, 4 pruned nodes, max_depth=5\u001b[0m\n",
      "\u001b[34m[2]#011train-error:0.144\u001b[0m\n",
      "\u001b[34m[07:54:03] src/tree/updater_prune.cc:74: tree pruning end, 1 roots, 38 extra nodes, 6 pruned nodes, max_depth=5\u001b[0m\n",
      "\u001b[34m[3]#011train-error:0.144\u001b[0m\n",
      "\u001b[34m[07:54:03] src/tree/updater_prune.cc:74: tree pruning end, 1 roots, 30 extra nodes, 8 pruned nodes, max_depth=5\u001b[0m\n",
      "\u001b[34m[4]#011train-error:0.144\u001b[0m\n",
      "\u001b[34m[07:54:03] src/tree/updater_prune.cc:74: tree pruning end, 1 roots, 32 extra nodes, 4 pruned nodes, max_depth=5\u001b[0m\n",
      "\u001b[34m[5]#011train-error:0.144\u001b[0m\n",
      "\u001b[34m[07:54:03] src/tree/updater_prune.cc:74: tree pruning end, 1 roots, 28 extra nodes, 14 pruned nodes, max_depth=5\u001b[0m\n",
      "\u001b[34m[6]#011train-error:0.1419\u001b[0m\n",
      "\u001b[34m[07:54:04] src/tree/updater_prune.cc:74: tree pruning end, 1 roots, 32 extra nodes, 14 pruned nodes, max_depth=5\u001b[0m\n",
      "\u001b[34m[7]#011train-error:0.1419\u001b[0m\n",
      "\u001b[34m[07:54:04] src/tree/updater_prune.cc:74: tree pruning end, 1 roots, 38 extra nodes, 8 pruned nodes, max_depth=5\u001b[0m\n",
      "\u001b[34m[8]#011train-error:0.1403\u001b[0m\n",
      "\u001b[34m[07:54:04] src/tree/updater_prune.cc:74: tree pruning end, 1 roots, 38 extra nodes, 14 pruned nodes, max_depth=5\u001b[0m\n",
      "\u001b[34m[9]#011train-error:0.1405\u001b[0m\n",
      "\u001b[34m[07:54:04] src/tree/updater_prune.cc:74: tree pruning end, 1 roots, 36 extra nodes, 14 pruned nodes, max_depth=5\u001b[0m\n",
      "\u001b[34m[10]#011train-error:0.1399\u001b[0m\n",
      "\u001b[34m[07:54:04] src/tree/updater_prune.cc:74: tree pruning end, 1 roots, 40 extra nodes, 16 pruned nodes, max_depth=5\u001b[0m\n",
      "\u001b[34m[11]#011train-error:0.1376\u001b[0m\n",
      "\u001b[34m[07:54:04] src/tree/updater_prune.cc:74: tree pruning end, 1 roots, 28 extra nodes, 16 pruned nodes, max_depth=5\u001b[0m\n",
      "\u001b[34m[12]#011train-error:0.1371\u001b[0m\n",
      "\u001b[34m[07:54:04] src/tree/updater_prune.cc:74: tree pruning end, 1 roots, 44 extra nodes, 4 pruned nodes, max_depth=5\u001b[0m\n",
      "\u001b[34m[13]#011train-error:0.1362\u001b[0m\n",
      "\u001b[34m[07:54:04] src/tree/updater_prune.cc:74: tree pruning end, 1 roots, 34 extra nodes, 24 pruned nodes, max_depth=5\u001b[0m\n",
      "\u001b[34m[14]#011train-error:0.1359\u001b[0m\n",
      "\u001b[34m[07:54:04] src/tree/updater_prune.cc:74: tree pruning end, 1 roots, 34 extra nodes, 16 pruned nodes, max_depth=5\u001b[0m\n",
      "\u001b[34m[15]#011train-error:0.134\u001b[0m\n",
      "\u001b[34m[07:54:04] src/tree/updater_prune.cc:74: tree pruning end, 1 roots, 24 extra nodes, 0 pruned nodes, max_depth=5\u001b[0m\n",
      "\u001b[34m[16]#011train-error:0.1341\u001b[0m\n",
      "\u001b[34m[07:54:04] src/tree/updater_prune.cc:74: tree pruning end, 1 roots, 18 extra nodes, 0 pruned nodes, max_depth=5\u001b[0m\n",
      "\u001b[34m[17]#011train-error:0.1339\u001b[0m\n",
      "\u001b[34m[07:54:04] src/tree/updater_prune.cc:74: tree pruning end, 1 roots, 32 extra nodes, 12 pruned nodes, max_depth=5\u001b[0m\n",
      "\u001b[34m[18]#011train-error:0.1335\u001b[0m\n",
      "\u001b[34m[07:54:04] src/tree/updater_prune.cc:74: tree pruning end, 1 roots, 40 extra nodes, 16 pruned nodes, max_depth=5\u001b[0m\n",
      "\u001b[34m[19]#011train-error:0.1313\u001b[0m\n",
      "\u001b[34m[07:54:04] src/tree/updater_prune.cc:74: tree pruning end, 1 roots, 24 extra nodes, 10 pruned nodes, max_depth=5\u001b[0m\n",
      "\u001b[34m[20]#011train-error:0.1311\u001b[0m\n",
      "\u001b[34m[07:54:04] src/tree/updater_prune.cc:74: tree pruning end, 1 roots, 10 extra nodes, 10 pruned nodes, max_depth=4\u001b[0m\n",
      "\u001b[34m[21]#011train-error:0.1304\u001b[0m\n",
      "\u001b[34m[07:54:04] src/tree/updater_prune.cc:74: tree pruning end, 1 roots, 16 extra nodes, 2 pruned nodes, max_depth=5\u001b[0m\n",
      "\u001b[34m[22]#011train-error:0.1295\u001b[0m\n",
      "\u001b[34m[07:54:04] src/tree/updater_prune.cc:74: tree pruning end, 1 roots, 38 extra nodes, 14 pruned nodes, max_depth=5\u001b[0m\n",
      "\u001b[34m[23]#011train-error:0.1288\u001b[0m\n",
      "\u001b[34m[07:54:04] src/tree/updater_prune.cc:74: tree pruning end, 1 roots, 22 extra nodes, 14 pruned nodes, max_depth=5\u001b[0m\n",
      "\u001b[34m[24]#011train-error:0.1291\u001b[0m\n",
      "\u001b[34m[07:54:04] src/tree/updater_prune.cc:74: tree pruning end, 1 roots, 22 extra nodes, 10 pruned nodes, max_depth=5\u001b[0m\n",
      "\u001b[34m[25]#011train-error:0.1281\u001b[0m\n",
      "\u001b[34m[07:54:04] src/tree/updater_prune.cc:74: tree pruning end, 1 roots, 22 extra nodes, 12 pruned nodes, max_depth=5\u001b[0m\n",
      "\u001b[34m[26]#011train-error:0.1268\u001b[0m\n",
      "\u001b[34m[07:54:04] src/tree/updater_prune.cc:74: tree pruning end, 1 roots, 22 extra nodes, 6 pruned nodes, max_depth=5\u001b[0m\n",
      "\u001b[34m[27]#011train-error:0.1262\u001b[0m\n",
      "\u001b[34m[07:54:04] src/tree/updater_prune.cc:74: tree pruning end, 1 roots, 16 extra nodes, 8 pruned nodes, max_depth=5\u001b[0m\n",
      "\u001b[34m[28]#011train-error:0.1251\u001b[0m\n",
      "\u001b[34m[07:54:04] src/tree/updater_prune.cc:74: tree pruning end, 1 roots, 30 extra nodes, 10 pruned nodes, max_depth=5\u001b[0m\n",
      "\u001b[34m[29]#011train-error:0.1253\u001b[0m\n",
      "\u001b[34m[07:54:04] src/tree/updater_prune.cc:74: tree pruning end, 1 roots, 16 extra nodes, 6 pruned nodes, max_depth=5\u001b[0m\n",
      "\u001b[34m[30]#011train-error:0.1251\u001b[0m\n",
      "\u001b[34m[07:54:04] src/tree/updater_prune.cc:74: tree pruning end, 1 roots, 22 extra nodes, 8 pruned nodes, max_depth=5\u001b[0m\n",
      "\u001b[34m[31]#011train-error:0.1244\u001b[0m\n",
      "\u001b[34m[07:54:04] src/tree/updater_prune.cc:74: tree pruning end, 1 roots, 10 extra nodes, 4 pruned nodes, max_depth=5\u001b[0m\n",
      "\u001b[34m[32]#011train-error:0.1241\u001b[0m\n",
      "\u001b[34m[07:54:04] src/tree/updater_prune.cc:74: tree pruning end, 1 roots, 28 extra nodes, 4 pruned nodes, max_depth=5\u001b[0m\n",
      "\u001b[34m[33]#011train-error:0.124\u001b[0m\n",
      "\u001b[34m[07:54:04] src/tree/updater_prune.cc:74: tree pruning end, 1 roots, 18 extra nodes, 12 pruned nodes, max_depth=5\u001b[0m\n",
      "\u001b[34m[34]#011train-error:0.1238\u001b[0m\n",
      "\u001b[34m[07:54:04] src/tree/updater_prune.cc:74: tree pruning end, 1 roots, 30 extra nodes, 12 pruned nodes, max_depth=5\u001b[0m\n",
      "\u001b[34m[35]#011train-error:0.1242\u001b[0m\n",
      "\u001b[34m[07:54:04] src/tree/updater_prune.cc:74: tree pruning end, 1 roots, 32 extra nodes, 16 pruned nodes, max_depth=5\u001b[0m\n",
      "\u001b[34m[36]#011train-error:0.1238\u001b[0m\n",
      "\u001b[34m[07:54:04] src/tree/updater_prune.cc:74: tree pruning end, 1 roots, 34 extra nodes, 8 pruned nodes, max_depth=5\u001b[0m\n",
      "\u001b[34m[37]#011train-error:0.1233\u001b[0m\n",
      "\u001b[34m[07:54:04] src/tree/updater_prune.cc:74: tree pruning end, 1 roots, 18 extra nodes, 4 pruned nodes, max_depth=5\u001b[0m\n",
      "\u001b[34m[38]#011train-error:0.1229\u001b[0m\n",
      "\u001b[34m[07:54:04] src/tree/updater_prune.cc:74: tree pruning end, 1 roots, 18 extra nodes, 14 pruned nodes, max_depth=5\u001b[0m\n",
      "\u001b[34m[39]#011train-error:0.122\u001b[0m\n",
      "\u001b[34m[07:54:04] src/tree/updater_prune.cc:74: tree pruning end, 1 roots, 24 extra nodes, 14 pruned nodes, max_depth=5\u001b[0m\n",
      "\u001b[34m[40]#011train-error:0.1219\u001b[0m\n",
      "\u001b[34m[07:54:04] src/tree/updater_prune.cc:74: tree pruning end, 1 roots, 26 extra nodes, 8 pruned nodes, max_depth=5\u001b[0m\n",
      "\u001b[34m[41]#011train-error:0.1211\u001b[0m\n",
      "\u001b[34m[07:54:04] src/tree/updater_prune.cc:74: tree pruning end, 1 roots, 16 extra nodes, 10 pruned nodes, max_depth=5\u001b[0m\n",
      "\u001b[34m[42]#011train-error:0.1206\u001b[0m\n",
      "\u001b[34m[07:54:04] src/tree/updater_prune.cc:74: tree pruning end, 1 roots, 4 extra nodes, 22 pruned nodes, max_depth=2\u001b[0m\n",
      "\u001b[34m[43]#011train-error:0.1205\u001b[0m\n",
      "\u001b[34m[07:54:04] src/tree/updater_prune.cc:74: tree pruning end, 1 roots, 22 extra nodes, 8 pruned nodes, max_depth=5\u001b[0m\n",
      "\u001b[34m[44]#011train-error:0.1203\u001b[0m\n",
      "\u001b[34m[07:54:04] src/tree/updater_prune.cc:74: tree pruning end, 1 roots, 22 extra nodes, 18 pruned nodes, max_depth=5\u001b[0m\n",
      "\u001b[34m[45]#011train-error:0.1199\u001b[0m\n",
      "\u001b[34m[07:54:04] src/tree/updater_prune.cc:74: tree pruning end, 1 roots, 22 extra nodes, 14 pruned nodes, max_depth=5\u001b[0m\n",
      "\u001b[34m[46]#011train-error:0.1205\u001b[0m\n",
      "\u001b[34m[07:54:04] src/tree/updater_prune.cc:74: tree pruning end, 1 roots, 24 extra nodes, 18 pruned nodes, max_depth=5\u001b[0m\n",
      "\u001b[34m[47]#011train-error:0.12\u001b[0m\n",
      "\u001b[34m[07:54:04] src/tree/updater_prune.cc:74: tree pruning end, 1 roots, 12 extra nodes, 16 pruned nodes, max_depth=5\u001b[0m\n",
      "\u001b[34m[48]#011train-error:0.1198\u001b[0m\n",
      "\u001b[34m[07:54:04] src/tree/updater_prune.cc:74: tree pruning end, 1 roots, 20 extra nodes, 22 pruned nodes, max_depth=5\u001b[0m\n",
      "\u001b[34m[49]#011train-error:0.1199\u001b[0m\n",
      "\u001b[34m[07:54:04] src/tree/updater_prune.cc:74: tree pruning end, 1 roots, 8 extra nodes, 12 pruned nodes, max_depth=4\u001b[0m\n",
      "\u001b[34m[50]#011train-error:0.12\u001b[0m\n",
      "\u001b[34m[07:54:04] src/tree/updater_prune.cc:74: tree pruning end, 1 roots, 18 extra nodes, 12 pruned nodes, max_depth=5\u001b[0m\n",
      "\u001b[34m[51]#011train-error:0.12\u001b[0m\n",
      "\u001b[34m[07:54:04] src/tree/updater_prune.cc:74: tree pruning end, 1 roots, 16 extra nodes, 2 pruned nodes, max_depth=5\u001b[0m\n",
      "\u001b[34m[52]#011train-error:0.119\u001b[0m\n",
      "\u001b[34m[07:54:04] src/tree/updater_prune.cc:74: tree pruning end, 1 roots, 18 extra nodes, 18 pruned nodes, max_depth=5\u001b[0m\n",
      "\u001b[34m[53]#011train-error:0.1189\u001b[0m\n",
      "\u001b[34m[07:54:04] src/tree/updater_prune.cc:74: tree pruning end, 1 roots, 12 extra nodes, 8 pruned nodes, max_depth=5\u001b[0m\n",
      "\u001b[34m[54]#011train-error:0.1188\u001b[0m\n",
      "\u001b[34m[07:54:04] src/tree/updater_prune.cc:74: tree pruning end, 1 roots, 6 extra nodes, 12 pruned nodes, max_depth=3\u001b[0m\n",
      "\u001b[34m[55]#011train-error:0.1186\u001b[0m\n",
      "\u001b[34m[07:54:04] src/tree/updater_prune.cc:74: tree pruning end, 1 roots, 14 extra nodes, 14 pruned nodes, max_depth=4\u001b[0m\n",
      "\u001b[34m[56]#011train-error:0.1192\u001b[0m\n",
      "\u001b[34m[07:54:04] src/tree/updater_prune.cc:74: tree pruning end, 1 roots, 10 extra nodes, 4 pruned nodes, max_depth=5\u001b[0m\n",
      "\u001b[34m[57]#011train-error:0.1186\u001b[0m\n",
      "\u001b[34m[07:54:04] src/tree/updater_prune.cc:74: tree pruning end, 1 roots, 16 extra nodes, 14 pruned nodes, max_depth=5\u001b[0m\n",
      "\u001b[34m[58]#011train-error:0.1173\u001b[0m\n",
      "\u001b[34m[07:54:04] src/tree/updater_prune.cc:74: tree pruning end, 1 roots, 18 extra nodes, 12 pruned nodes, max_depth=4\u001b[0m\n",
      "\u001b[34m[59]#011train-error:0.1166\u001b[0m\n",
      "\u001b[34m[07:54:04] src/tree/updater_prune.cc:74: tree pruning end, 1 roots, 24 extra nodes, 22 pruned nodes, max_depth=5\u001b[0m\n",
      "\u001b[34m[60]#011train-error:0.1172\u001b[0m\n",
      "\u001b[34m[07:54:04] src/tree/updater_prune.cc:74: tree pruning end, 1 roots, 28 extra nodes, 16 pruned nodes, max_depth=5\u001b[0m\n",
      "\u001b[34m[61]#011train-error:0.1166\u001b[0m\n",
      "\u001b[34m[07:54:04] src/tree/updater_prune.cc:74: tree pruning end, 1 roots, 20 extra nodes, 10 pruned nodes, max_depth=5\u001b[0m\n",
      "\u001b[34m[62]#011train-error:0.1162\u001b[0m\n",
      "\u001b[34m[07:54:04] src/tree/updater_prune.cc:74: tree pruning end, 1 roots, 22 extra nodes, 18 pruned nodes, max_depth=5\u001b[0m\n",
      "\u001b[34m[63]#011train-error:0.1161\u001b[0m\n",
      "\u001b[34m[07:54:04] src/tree/updater_prune.cc:74: tree pruning end, 1 roots, 0 extra nodes, 12 pruned nodes, max_depth=0\u001b[0m\n",
      "\u001b[34m[64]#011train-error:0.1162\u001b[0m\n",
      "\u001b[34m[07:54:04] src/tree/updater_prune.cc:74: tree pruning end, 1 roots, 20 extra nodes, 10 pruned nodes, max_depth=5\u001b[0m\n",
      "\u001b[34m[65]#011train-error:0.1168\u001b[0m\n",
      "\u001b[34m[07:54:04] src/tree/updater_prune.cc:74: tree pruning end, 1 roots, 12 extra nodes, 20 pruned nodes, max_depth=5\u001b[0m\n",
      "\u001b[34m[66]#011train-error:0.1162\u001b[0m\n",
      "\u001b[34m[07:54:04] src/tree/updater_prune.cc:74: tree pruning end, 1 roots, 24 extra nodes, 8 pruned nodes, max_depth=5\u001b[0m\n",
      "\u001b[34m[67]#011train-error:0.1157\u001b[0m\n",
      "\u001b[34m[07:54:04] src/tree/updater_prune.cc:74: tree pruning end, 1 roots, 16 extra nodes, 14 pruned nodes, max_depth=5\u001b[0m\n",
      "\u001b[34m[68]#011train-error:0.1157\u001b[0m\n",
      "\u001b[34m[07:54:04] src/tree/updater_prune.cc:74: tree pruning end, 1 roots, 0 extra nodes, 20 pruned nodes, max_depth=0\u001b[0m\n",
      "\u001b[34m[69]#011train-error:0.1157\u001b[0m\n",
      "\u001b[34m[07:54:04] src/tree/updater_prune.cc:74: tree pruning end, 1 roots, 16 extra nodes, 20 pruned nodes, max_depth=5\u001b[0m\n",
      "\u001b[34m[70]#011train-error:0.115\u001b[0m\n",
      "\u001b[34m[07:54:04] src/tree/updater_prune.cc:74: tree pruning end, 1 roots, 16 extra nodes, 12 pruned nodes, max_depth=5\u001b[0m\n",
      "\u001b[34m[71]#011train-error:0.115\u001b[0m\n",
      "\u001b[34m[07:54:04] src/tree/updater_prune.cc:74: tree pruning end, 1 roots, 0 extra nodes, 14 pruned nodes, max_depth=0\u001b[0m\n",
      "\u001b[34m[72]#011train-error:0.115\u001b[0m\n",
      "\u001b[34m[07:54:04] src/tree/updater_prune.cc:74: tree pruning end, 1 roots, 10 extra nodes, 16 pruned nodes, max_depth=5\u001b[0m\n",
      "\u001b[34m[73]#011train-error:0.1148\u001b[0m\n",
      "\u001b[34m[07:54:04] src/tree/updater_prune.cc:74: tree pruning end, 1 roots, 10 extra nodes, 26 pruned nodes, max_depth=5\u001b[0m\n",
      "\u001b[34m[74]#011train-error:0.1148\u001b[0m\n",
      "\u001b[34m[07:54:04] src/tree/updater_prune.cc:74: tree pruning end, 1 roots, 10 extra nodes, 26 pruned nodes, max_depth=5\u001b[0m\n",
      "\u001b[34m[75]#011train-error:0.1149\u001b[0m\n",
      "\u001b[34m[07:54:04] src/tree/updater_prune.cc:74: tree pruning end, 1 roots, 20 extra nodes, 12 pruned nodes, max_depth=5\u001b[0m\n",
      "\u001b[34m[76]#011train-error:0.1143\u001b[0m\n",
      "\u001b[34m[07:54:04] src/tree/updater_prune.cc:74: tree pruning end, 1 roots, 10 extra nodes, 6 pruned nodes, max_depth=5\u001b[0m\n",
      "\u001b[34m[77]#011train-error:0.1147\u001b[0m\n",
      "\u001b[34m[07:54:04] src/tree/updater_prune.cc:74: tree pruning end, 1 roots, 14 extra nodes, 24 pruned nodes, max_depth=4\u001b[0m\n",
      "\u001b[34m[78]#011train-error:0.1144\u001b[0m\n",
      "\u001b[34m[07:54:04] src/tree/updater_prune.cc:74: tree pruning end, 1 roots, 12 extra nodes, 22 pruned nodes, max_depth=5\u001b[0m\n",
      "\u001b[34m[79]#011train-error:0.1142\u001b[0m\n",
      "\u001b[34m[07:54:04] src/tree/updater_prune.cc:74: tree pruning end, 1 roots, 8 extra nodes, 32 pruned nodes, max_depth=4\u001b[0m\n",
      "\u001b[34m[80]#011train-error:0.1138\u001b[0m\n",
      "\u001b[34m[07:54:04] src/tree/updater_prune.cc:74: tree pruning end, 1 roots, 10 extra nodes, 10 pruned nodes, max_depth=5\u001b[0m\n",
      "\u001b[34m[81]#011train-error:0.1139\u001b[0m\n",
      "\u001b[34m[07:54:04] src/tree/updater_prune.cc:74: tree pruning end, 1 roots, 16 extra nodes, 32 pruned nodes, max_depth=4\u001b[0m\n",
      "\u001b[34m[82]#011train-error:0.1135\u001b[0m\n",
      "\u001b[34m[07:54:04] src/tree/updater_prune.cc:74: tree pruning end, 1 roots, 32 extra nodes, 24 pruned nodes, max_depth=5\u001b[0m\n",
      "\u001b[34m[83]#011train-error:0.1135\u001b[0m\n",
      "\u001b[34m[07:54:04] src/tree/updater_prune.cc:74: tree pruning end, 1 roots, 24 extra nodes, 12 pruned nodes, max_depth=5\u001b[0m\n",
      "\u001b[34m[84]#011train-error:0.1134\u001b[0m\n",
      "\u001b[34m[07:54:04] src/tree/updater_prune.cc:74: tree pruning end, 1 roots, 18 extra nodes, 14 pruned nodes, max_depth=5\u001b[0m\n",
      "\u001b[34m[85]#011train-error:0.1134\u001b[0m\n",
      "\u001b[34m[07:54:04] src/tree/updater_prune.cc:74: tree pruning end, 1 roots, 6 extra nodes, 12 pruned nodes, max_depth=3\u001b[0m\n",
      "\u001b[34m[86]#011train-error:0.1134\u001b[0m\n",
      "\u001b[34m[07:54:04] src/tree/updater_prune.cc:74: tree pruning end, 1 roots, 10 extra nodes, 6 pruned nodes, max_depth=4\u001b[0m\n",
      "\u001b[34m[87]#011train-error:0.1127\u001b[0m\n",
      "\u001b[34m[07:54:04] src/tree/updater_prune.cc:74: tree pruning end, 1 roots, 0 extra nodes, 12 pruned nodes, max_depth=0\u001b[0m\n",
      "\u001b[34m[88]#011train-error:0.1124\u001b[0m\n",
      "\u001b[34m[07:54:04] src/tree/updater_prune.cc:74: tree pruning end, 1 roots, 0 extra nodes, 18 pruned nodes, max_depth=0\u001b[0m\n",
      "\u001b[34m[89]#011train-error:0.1128\u001b[0m\n",
      "\u001b[34m[07:54:04] src/tree/updater_prune.cc:74: tree pruning end, 1 roots, 0 extra nodes, 18 pruned nodes, max_depth=0\u001b[0m\n",
      "\u001b[34m[90]#011train-error:0.1124\u001b[0m\n",
      "\u001b[34m[07:54:04] src/tree/updater_prune.cc:74: tree pruning end, 1 roots, 12 extra nodes, 16 pruned nodes, max_depth=5\u001b[0m\n",
      "\u001b[34m[91]#011train-error:0.1129\u001b[0m\n",
      "\u001b[34m[07:54:04] src/tree/updater_prune.cc:74: tree pruning end, 1 roots, 6 extra nodes, 16 pruned nodes, max_depth=2\u001b[0m\n",
      "\u001b[34m[92]#011train-error:0.1131\u001b[0m\n",
      "\u001b[34m[07:54:04] src/tree/updater_prune.cc:74: tree pruning end, 1 roots, 8 extra nodes, 26 pruned nodes, max_depth=4\u001b[0m\n",
      "\u001b[34m[93]#011train-error:0.1129\u001b[0m\n",
      "\u001b[34m[07:54:04] src/tree/updater_prune.cc:74: tree pruning end, 1 roots, 16 extra nodes, 24 pruned nodes, max_depth=5\u001b[0m\n",
      "\u001b[34m[94]#011train-error:0.1126\u001b[0m\n",
      "\u001b[34m[07:54:04] src/tree/updater_prune.cc:74: tree pruning end, 1 roots, 0 extra nodes, 12 pruned nodes, max_depth=0\u001b[0m\n",
      "\u001b[34m[95]#011train-error:0.1126\u001b[0m\n",
      "\u001b[34m[07:54:04] src/tree/updater_prune.cc:74: tree pruning end, 1 roots, 8 extra nodes, 8 pruned nodes, max_depth=4\u001b[0m\n",
      "\u001b[34m[96]#011train-error:0.1127\u001b[0m\n",
      "\u001b[34m[07:54:04] src/tree/updater_prune.cc:74: tree pruning end, 1 roots, 4 extra nodes, 30 pruned nodes, max_depth=2\u001b[0m\n",
      "\u001b[34m[97]#011train-error:0.1124\u001b[0m\n",
      "\u001b[34m[07:54:04] src/tree/updater_prune.cc:74: tree pruning end, 1 roots, 8 extra nodes, 18 pruned nodes, max_depth=4\u001b[0m\n",
      "\u001b[34m[98]#011train-error:0.1124\u001b[0m\n",
      "\u001b[34m[07:54:04] src/tree/updater_prune.cc:74: tree pruning end, 1 roots, 12 extra nodes, 16 pruned nodes, max_depth=5\u001b[0m\n",
      "\u001b[34m[99]#011train-error:0.1116\u001b[0m\n",
      "\n",
      "2020-09-30 07:54:15 Uploading - Uploading generated training model\n",
      "2020-09-30 07:54:15 Completed - Training job completed\n",
      "Training seconds: 63\n",
      "Billable seconds: 63\n"
     ]
    }
   ],
   "source": [
    "telecom_model.fit({'train':s3_input_train})"
   ]
  },
  {
   "cell_type": "code",
   "execution_count": 46,
   "metadata": {},
   "outputs": [
    {
     "name": "stderr",
     "output_type": "stream",
     "text": [
      "Parameter image will be renamed to image_uri in SageMaker Python SDK v2.\n"
     ]
    },
    {
     "name": "stdout",
     "output_type": "stream",
     "text": [
      "--------------!"
     ]
    }
   ],
   "source": [
    "detector=telecom_model.deploy(initial_instance_count=1,instance_type='ml.m5.large')"
   ]
  },
  {
   "cell_type": "code",
   "execution_count": 47,
   "metadata": {},
   "outputs": [
    {
     "data": {
      "text/plain": [
       "'xgboost-2020-09-30-07-50-56-779'"
      ]
     },
     "execution_count": 47,
     "metadata": {},
     "output_type": "execute_result"
    }
   ],
   "source": [
    "detector.endpoint"
   ]
  },
  {
   "cell_type": "code",
   "execution_count": 48,
   "metadata": {},
   "outputs": [],
   "source": [
    "from sagemaker.predictor import csv_serializer"
   ]
  },
  {
   "cell_type": "code",
   "execution_count": 50,
   "metadata": {},
   "outputs": [
    {
     "name": "stdout",
     "output_type": "stream",
     "text": [
      "<class 'numpy.ndarray'>\n",
      "(2000, 10)\n",
      "(2000,)\n"
     ]
    }
   ],
   "source": [
    "test_data_array=test.drop('Exited',axis=1).values #load the data into an array\n",
    "detector.content_type = 'text/csv' # set the data type for an inference\n",
    "detector.serializer = csv_serializer # set the serializer type\n",
    "print(type(test_data_array))\n",
    "print(test_data_array.shape)\n",
    "predictions=detector.predict(test_data_array).decode('utf-8') # predict!\n",
    "predictions_array = np.fromstring(predictions[1:], sep=',') # and turn the prediction into an array\n",
    "print(predictions_array.shape)"
   ]
  },
  {
   "cell_type": "code",
   "execution_count": 51,
   "metadata": {},
   "outputs": [
    {
     "name": "stdout",
     "output_type": "stream",
     "text": [
      "0.357669651508,0.141457110643,0.329746335745,0.026482027024,0.0712991580367,0.0263096913695,0.0375938378274,0.0215682908893,0.0678913518786,0.115104779601,0.414443165064,0.015394564718,0.0659468099475,0.983116984367,0.564640462399,0.767752766609,0.211881354451,0.0556389167905,0.266310662031,0.0520670227706,0.0255261678249,0.0819280520082,0.121003270149,0.0237068850547,0.0298531763256,0.400649666786,0.0279733166099,0.645623505116,0.144340574741,0.773866117001,0.0724500715733,0.0210663992912,0.660542488098,0.312410950661,0.805181801319,0.835865318775,0.0263171419501,0.255656123161,0.150213211775,0.17395016551,0.308814823627,0.0194727368653,0.290218800306,0.0748643428087,0.0298329666257,0.0253355037421,0.0449019707739,0.259558230639,0.0533759184182,0.781935751438,0.0273960605264,0.157540291548,0.0343550741673,0.335181176662,0.0296571981162,0.091909609735,0.0141892451793,0.157416403294,0.0391214042902,0.450152218342,0.292664647102,0.0937503576279,0.0576719790697,0.0443506836891,0.0373427048326,0.155199185014,0.0502981394529,0.0710270255804,0.446701139212,0.572361409664,0.180645704269,0.7317096591,0.0830874964595,0.0461247563362,0.0191855877638,0.0121706062928,0.0155159085989,0.364274173975,0.382801711559,0.412225365639,0.00605031149462,0.11486851424,0.15652140975,0.0366217754781,0.130395650864,0.0441899485886,0.635700643063,0.0170651581138,0.0360826738179,0.0455167926848,0.012677596882,0.0177081599832,0.0138631332666,0.66416233778,0.176358506083,0.531168580055,0.0239507853985,0.0872323140502,0.837302923203,0.0105954483151,0.0460762195289,0.0309317186475,0.163216099143,0.601965308189,0.0419460423291,0.0393777601421,0.0375836156309,0.017990315333,0.346629232168,0.064279101789,0.101827032864,0.265378087759,0.975147724152,0.0700022429228,0.049429371953,0.0824607014656,0.144094198942,0.0924224555492,0.303251862526,0.215495213866,0.235083475709,0.0213601496071,0.0220698155463,0.0728238001466,0.00614333618432,0.488911926746,0.10665551573,0.0739371702075,0.0133571783081,0.027969064191,0.697656035423,0.265094041824,0.0515954867005,0.082623578608,0.00672792643309,0.0578222945333,0.362552344799,0.0371424034238,0.15151129663,0.172684624791,0.0699690058827,0.509014189243,0.287413448095,0.0959527418017,0.026997230947,0.529179811478,0.0673849955201,0.021628184244,0.0224863402545,0.546940028667,0.0326875001192,0.0189216658473,0.0947914049029,0.0494343452156,0.180557399988,0.777665495872,0.410080730915,0.231730118394,0.0151997162029,0.0612167008221,0.0393101125956,0.151070445776,0.00792831927538,0.0329048521817,0.228255361319,0.189353004098,0.0412432588637,0.208222538233,0.0736161991954,0.0559554733336,0.0889933258295,0.537896156311,0.0144446343184,0.0828918293118,0.0215727444738,0.0275594387203,0.119299307466,0.261792868376,0.0542793385684,0.0369840152562,0.941305816174,0.0106885023415,0.452027261257,0.0194200333208,0.025169024244,0.0227584466338,0.410788953304,0.915967583656,0.0512623675168,0.0262341760099,0.618754029274,0.733051419258,0.0450671464205,0.298974871635,0.0306882672012,0.0404180586338,0.0185206178576,0.0760784298182,0.0666117966175,0.01387086045,0.163697034121,0.941817343235,0.00842115934938,0.0225768499076,0.422259658575,0.137962073088,0.959979474545,0.0261248778552,0.261576324701,0.502310752869,0.227865502238,0.0422570817173,0.207064315677,0.087374791503,0.157993122935,0.672526538372,0.81690788269,0.492997914553,0.678439557552,0.940833628178,0.00879832077771,0.026970019564,0.22706463933,0.344076991081,0.0348902307451,0.0170021094382,0.258403897285,0.115065321326,0.0665907338262,0.174170434475,0.0543405152857,0.205635800958,0.0214737784117,0.124494194984,0.290979832411,0.0084806708619,0.844296634197,0.00648056203499,0.0211966559291,0.0443118736148,0.0214763730764,0.0420021191239,0.0535216741264,0.18906493485,0.012316740118,0.0683483183384,0.324057132006,0.0336228497326,0.805040240288,0.379925370216,0.315127193928,0.13094855845,0.22849136591,0.0444295480847,0.129998385906,0.575832247734,0.360362619162,0.0802396535873,0.0955047607422,0.13585396111,0.036799672991,0.0238718502223,0.0460938513279,0.0424789190292,0.0803006514907,0.125563800335,0.0793219804764,0.16097356379,0.0516792498529,0.0490203127265,0.395844399929,0.204221203923,0.185217738152,0.517952859402,0.10106433928,0.119552977383,0.0230347905308,0.071881480515,0.143397420645,0.0240376684815,0.065007917583,0.672573447227,0.0835620164871,0.0552339032292,0.0927736908197,0.0486271977425,0.157075315714,0.313890606165,0.0201757736504,0.151516675949,0.157708019018,0.0121473763138,0.33212441206,0.0613654442132,0.0198898166418,0.886857628822,0.0738165080547,0.00856954883784,0.0228128116578,0.110100887716,0.238273739815,0.03869413957,0.0350197255611,0.0375551693141,0.168287605047,0.03104028292,0.100943304598,0.0468025095761,0.0482228808105,0.297820568085,0.0367668122053,0.0639104023576,0.085664190352,0.0116152605042,0.143712162971,0.0787031278014,0.838099241257,0.0563894920051,0.0415291935205,0.985398888588,0.507953643799,0.577447712421,0.0903480872512,0.00509368162602,0.432625174522,0.0396849066019,0.0226973667741,0.0442436598241,0.023498820141,0.012771807611,0.246013388038,0.106417357922,0.0155928889289,0.130267724395,0.025485964492,0.168507456779,0.0434394069016,0.0799278914928,0.0466447211802,0.0172149464488,0.0179287102073,0.0175496414304,0.0514367707074,0.223885923624,0.198671489954,0.108823619783,0.573985517025,0.0633763447404,0.546973586082,0.21239797771,0.0993513837457,0.471157521009,0.0651777088642,0.0479713343084,0.0722279846668,0.0248306430876,0.0846166238189,0.242650210857,0.0174721833318,0.058384206146,0.0825525522232,0.0704593732953,0.0191932339221,0.231718495488,0.0659482106566,0.572913110256,0.0383184924722,0.318635106087,0.145311638713,0.0775416269898,0.0269123725593,0.0471111312509,0.146736234426,0.0357505530119,0.817877829075,0.0521052926779,0.102963462472,0.0163027290255,0.0150030246004,0.105666957796,0.131901428103,0.0248209331185,0.786403238773,0.206091418862,0.0437788553536,0.0545720979571,0.271366655827,0.0110487304628,0.146146118641,0.0804934874177,0.0213993676007,0.224559545517,0.208475485444,0.123082615435,0.358540683985,0.0240208599716,0.160440534353,0.00867085251957,0.617735564709,0.235097289085,0.0843912288547,0.323474735022,0.936988592148,0.708940148354,0.062348049134,0.0169053375721,0.0451046824455,0.0553262419999,0.0231464672834,0.00779207004234,0.968417525291,0.0368813015521,0.0240093432367,0.133600309491,0.104653276503,0.0415695048869,0.0325194001198,0.0404889583588,0.0669730454683,0.650889754295,0.791259944439,0.0516797266901,0.0728945359588,0.261287719011,0.271470695734,0.168337315321,0.244019448757,0.0132014667615,0.0736520290375,0.0477193258703,0.0161082465202,0.869569718838,0.015641739592,0.843981921673,0.892219245434,0.277974873781,0.0583645515144,0.0577130168676,0.0513092540205,0.723801195621,0.0129807684571,0.0593662038445,0.313031345606,0.00674206437543,0.062741085887,0.202891498804,0.432618886232,0.0722966492176,0.24500772357,0.0577039569616,0.0495516210794,0.0405334681273,0.643579483032,0.871978878975,0.10600990802,0.0100872907788,0.575378656387,0.151027098298,0.275365620852,0.0196155011654,0.0586762093008,0.216612666845,0.392525702715,0.269999086857,0.0215794723481,0.0355109609663,0.181324571371,0.251964449883,0.170838519931,0.0628707185388,0.0575510188937,0.266455322504,0.161799013615,0.171051174402,0.0450749844313,0.0757143646479,0.0649370327592,0.108187109232,0.0615332685411,0.0135740069672,0.669337570667,0.0997237712145,0.557815432549,0.0157483778894,0.159579008818,0.532262980938,0.443354040384,0.0248411037028,0.037539396435,0.0700253918767,0.0253119822592,0.0670232996345,0.957228422165,0.0352699384093,0.871703624725,0.0256624668837,0.0172704979777,0.0894287005067,0.576898813248,0.260041087866,0.0667355582118,0.0658182352781,0.0223202574998,0.0935404524207,0.0674276724458,0.0759318172932,0.105514466763,0.907756924629,0.976900219917,0.1102784127,0.472811788321,0.0839126482606,0.715794801712,0.0267780348659,0.181115984917,0.0142102232203,0.158679619431,0.26311263442,0.144547477365,0.0168056488037,0.0187761709094,0.794586539268,0.29389333725,0.0338581092656,0.153366744518,0.0344973728061,0.102535456419,0.473308324814,0.740922272205,0.828695118427,0.187155276537,0.594262242317,0.140489041805,0.0463514178991,0.026463219896,0.0237269084901,0.252750873566,0.0119150783867,0.264661431313,0.0937173217535,0.023592159152,0.0583653897047,0.484431475401,0.111824050546,0.582537472248,0.0187061075121,0.853867411613,0.0701415836811,0.070650473237,0.0816629454494,0.029220815748,0.0292938519269,0.0915868803859,0.101676121354,0.586599946022,0.0584029555321,0.0353672206402,0.0747362375259,0.0283773969859,0.0623464211822,0.133608147502,0.144821196795,0.918895602226,0.0128563633189,0.0375041887164,0.0311755556613,0.930211365223,0.269732058048,0.0206680838019,0.88212710619,0.224464327097,0.131310284138,0.00825381092727,0.146271362901,0.115350201726,0.0618872083724,0.0294715259224,0.204946666956,0.0359126031399,0.102827467024,0.320854783058,0.0406119003892,0.0150799779221,0.0179497282952,0.0996244251728,0.0377888418734,0.299837201834,0.102663837373,0.143379852176,0.183044970036,0.154912382364,0.213556572795,0.159231811762,0.981304049492,0.962025880814,0.0172950774431,0.130479812622,0.0324592366815,0.0376462936401,0.217780262232,0.0676429495215,0.0285893492401,0.696480691433,0.0234653111547,0.00914125051349,0.0609726384282,0.110972046852,0.0580749511719,0.485995799303,0.0236778892577,0.00938117783517,0.104295529425,0.0774795413017,0.0670363754034,0.0263734422624,0.103913545609,0.0228223260492,0.0623237267137,0.186736211181,0.128054857254,0.0501218624413,0.0446557104588,0.0923215523362,0.0353003963828,0.944111585617,0.489538818598,0.128219604492,0.254452735186,0.463850677013,0.14858867228,0.0644786730409,0.0957165509462,0.0818637907505,0.0266980864108,0.14507317543,0.231185227633,0.103389747441,0.892449140549,0.0268684457988,0.766299784184,0.360036164522,0.426197260618,0.0515460446477,0.035635240376,0.282648026943,0.0600815340877,0.312370628119,0.100629664958,0.9552038908,0.010519657284,0.00887871626765,0.0517378784716,0.0272786151618,0.0794866979122,0.0325052328408,0.0825769007206,0.272058606148,0.0189169179648,0.214163914323,0.0239840131253,0.315661847591,0.0166325252503,0.0223687496036,0.168387934566,0.0156738776714,0.0390554703772,0.204700693488,0.0101098995656,0.245869904757,0.0359018705785,0.92825204134,0.0106351012364,0.223583474755,0.00773547636345,0.016444735229,0.421095043421,0.224310427904,0.0190983824432,0.205633416772,0.0302701145411,0.0447507128119,0.0199005566537,0.0567689463496,0.0355120375752,0.0392688959837,0.230829909444,0.0308059677482,0.0241706371307,0.12202655524,0.241428077221,0.37495854497,0.0559370778501,0.307087123394,0.599652409554,0.0427420474589,0.0912681370974,0.04748897627,0.869697332382,0.0759876146913,0.0230939909816,0.485128879547,0.259151995182,0.0122940680012,0.0503424704075,0.0294251460582,0.169294163585,0.0964263677597,0.0118319662288,0.026606189087,0.522925019264,0.0199126414955,0.457871645689,0.0377805456519,0.0291059799492,0.340439289808,0.143076062202,0.0688908472657,0.125871092081,0.0225051250309,0.435202926397,0.150127634406,0.889237046242,0.023686112836,0.0430848002434,0.0138038657606,0.288775444031,0.0331078991294,0.937956690788,0.881961166859,0.0177245661616,0.0479968711734,0.00831111613661,0.0818914249539,0.465603768826,0.118754826486,0.245930656791,0.0182086322457,0.138149544597,0.260057866573,0.172535985708,0.0270086489618,0.0165909603238,0.0694353729486,0.0424665100873,0.956789970398,0.904129862785,0.109146796167,0.0600281208754,0.0219779163599,0.0291148964316,0.66977506876,0.0494251027703,0.896095693111,0.648870825768,0.00765444990247,0.0543243102729,0.251649826765,0.0418737456203,0.851750612259,0.30231153965,0.0447982735932,0.0253697670996,0.0201742500067,0.07141238451,0.489747732878,0.00857622455806,0.2922937572,0.130849987268,0.136341094971,0.0664136111736,0.785395503044,0.824396014214,0.74979865551,0.0865159109235,0.00736039271578,0.324679046869,0.180336385965,0.00995284598321,0.890322804451,0.25782546401,0.0201052706689,0.0208492744714,0.0169924292713,0.418189644814,0.01363066677,0.0235711671412,0.0553500428796,0.192529574037,0.117307819426,0.977699756622,0.041099563241,0.00663378136232,0.0461403876543,0.0712396353483,0.015835987404,0.0622052289546,0.045033171773,0.0318423211575,0.0802804380655,0.0385942421854,0.485631108284,0.0281003285199,0.0276549309492,0.146250888705,0.0402747392654,0.0585513785481,0.198975235224,0.0610132850707,0.205070644617,0.149170741439,0.0449982956052,0.0763885378838,0.235141783953,0.0353544764221,0.142876088619,0.33592620492,0.227302014828,0.173374503851,0.132979243994,0.253268450499,0.790358126163,0.133262440562,0.0511375553906,0.262446910143,0.0315520949662,0.170252859592,0.0126826949418,0.0422892943025,0.333025664091,0.0215318966657,0.368923127651,0.00993071123958,0.695885658264,0.123438879848,0.0276234708726,0.0396028608084,0.251246184111,0.0499416068196,0.478095710278,0.53495913744,0.0690802484751,0.00959245394915,0.024934578687,0.144146665931,0.0738206654787,0.461740761995,0.50307071209,0.0395493805408,0.314363598824,0.0709170028567,0.182597845793,0.110035084188,0.0897529646754,0.739219009876,0.471745669842,0.252035230398,0.617539823055,0.0702881589532,0.402337640524,0.243523180485,0.160707041621,0.0898286104202,0.0526146143675,0.191477298737,0.311563700438,0.0324961952865,0.0460161492229,0.0282382015139,0.385930895805,0.0812547877431,0.0309637431055,0.0193660464138,0.227463155985,0.317208081484,0.0188100803643,0.60382437706,0.140508159995,0.0153383985162,0.0948032960296,0.126841619611,0.0373867489398,0.0175399836153,0.161596491933,0.442120552063,0.021940516308,0.020631512627,0.332109093666,0.0193400029093,0.013048812747,0.197804763913,0.120138548315,0.0275389775634,0.899768590927,0.071410946548,0.0201307535172,0.0243132449687,0.017028586939,0.172588482499,0.00793063733727,0.0188848339021,0.755087792873,0.139610186219,0.0375923030078,0.0479160249233,0.187892824411,0.0939527675509,0.0104971416295,0.0306040197611,0.78547680378,0.114443555474,0.0184562914073,0.0219609960914,0.210046723485,0.99537730217,0.0971602872014,0.0127712953836,0.202466413379,0.0619031302631,0.120274066925,0.0191495958716,0.954491436481,0.104400724173,0.151540532708,0.106528803706,0.58758020401,0.35863250494,0.830135166645,0.276559263468,0.185168474913,0.332579672337,0.0919318422675,0.126099839807,0.0503818616271,0.475222200155,0.0973809063435,0.907024502754,0.0649678632617,0.0302605330944,0.0337097123265,0.069729372859,0.574236810207,0.0855170413852,0.239721089602,0.125456809998,0.671446502209,0.508369266987,0.0659999996424,0.124585740268,0.0877697467804,0.0812724977732,0.0654397457838,0.0211119428277,0.186717554927,0.028428286314,0.0671030208468,0.0141257075593,0.414673298597,0.592924773693,0.0350749231875,0.0762317553163,0.0200085844845,0.151533171535,0.044082030654,0.223627895117,0.352662712336,0.856571376324,0.0455469042063,0.0168263502419,0.0314461663365,0.0410103611648,0.518964767456,0.583163678646,0.0295511111617,0.0742828845978,0.966868162155,0.0251546502113,0.210808113217,0.0315710157156,0.174750208855,0.467242062092,0.157128587365,0.252483576536,0.128601953387,0.131176650524,0.119547776878,0.0152244828641,0.107760109007,0.0060018915683,0.530793607235,0.0268106199801,0.00691132247448,0.0501933433115,0.0298119690269,0.283279955387,0.0523708835244,0.267569154501,0.334249466658,0.0195971056819,0.967355191708,0.0211642291397,0.0133692482486,0.0974284857512,0.462907850742,0.10629657656,0.336566239595,0.0648053437471,0.104557923973,0.00637969793752,0.0707399174571,0.00524017121643,0.372115463018,0.0125385308638,0.0794878974557,0.13900077343,0.0127955591306,0.0318614803255,0.385445088148,0.0323820672929,0.0420058593154,0.0618552565575,0.047132357955,0.775490641594,0.37573248148,0.173637837172,0.819009304047,0.296066492796,0.200497224927,0.151722609997,0.0522833801806,0.0222230292857,0.010425709188,0.0103490678594,0.279215037823,0.0165175460279,0.0835526883602,0.989662408829,0.0154335992411,0.284435003996,0.0334333106875,0.00776603864506,0.537976980209,0.567952692509,0.205079868436,0.0256668440998,0.0579777657986,0.911926031113,0.0289142467082,0.574857473373,0.157947927713,0.269946783781,0.0182794649154,0.0310299936682,0.0289845615625,0.300601691008,0.390855431557,0.0702719092369,0.0510897785425,0.0224399492145,0.0319990515709,0.00395280076191,0.0279485806823,0.082560300827,0.0240845456719,0.0391007959843,0.230833262205,0.0158465057611,0.176250755787,0.091523565352,0.0233026668429,0.0234783496708,0.651958703995,0.284524410963,0.0548321418464,0.0539076887071,0.108116947114,0.232561588287,0.0697217658162,0.023249136284,0.0431366227567,0.0313677862287,0.0251969657838,0.0198920946568,0.0534017980099,0.114747002721,0.111174821854,0.148215696216,0.32239562273,0.851004779339,0.720794200897,0.709357500076,0.33786547184,0.070898219943,0.0342999100685,0.825260818005,0.0797056928277,0.056011620909,0.107028499246,0.0293781869113,0.0084828408435,0.263640582561,0.0327404476702,0.16105209291,0.0826447084546,0.0119770448655,0.985047698021,0.0116077959538,0.0118136042729,0.0665332898498,0.128148943186,0.109634496272,0.025341026485,0.0155092012137,0.446328371763,0.110935099423,0.345107376575,0.0352863296866,0.0649733319879,0.0518002547324,0.0286218486726,0.0941510349512,0.240609750152,0.0446316488087,0.0124126393348,0.0438975133002,0.0209393519908,0.0280110072345,0.378085047007,0.010438577272,0.107909411192,0.0188882071525,0.057349331677,0.0898333489895,0.234028562903,0.144167855382,0.0337942019105,0.064298465848,0.0988973230124,0.0682471692562,0.0188694410026,0.359423547983,0.190005972981,0.0716673210263,0.0327696800232,0.0148526774719,0.0264456514269,0.490384191275,0.921167492867,0.0412657447159,0.187910631299,0.00733067188412,0.149317488074,0.0235247109085,0.0247197635472,0.170691132545,0.978287637234,0.0728790536523,0.265968084335,0.0706445947289,0.117361530662,0.102517955005,0.079153880477,0.965234875679,0.0203985609114,0.11877848953,0.0889385268092,0.0770066604018,0.0755286514759,0.505010187626,0.357925564051,0.194412752986,0.0151653643698,0.013043532148,0.0136390933767,0.0435515530407,0.126318603754,0.292058199644,0.0592446625233,0.0292568318546,0.00992090348154,0.029677849263,0.247892796993,0.0296523328871,0.0347605273128,0.0497207902372,0.652014374733,0.0109816845506,0.3080727458,0.246341004968,0.0119737731293,0.21877156198,0.0502245724201,0.148545011878,0.924810647964,0.022542539984,0.383361726999,0.698069930077,0.0085365427658,0.136101856828,0.0117784645408,0.304979383945,0.0137990238145,0.111979804933,0.0965252071619,0.0670996308327,0.859452426434,0.0895760133862,0.428516507149,0.0634704381227,0.0622026249766,0.0747133046389,0.744911730289,0.915951371193,0.222400531173,0.112865887582,0.0908128768206,0.026086287573,0.0124424453825,0.0689774230123,0.0886876136065,0.0062192468904,0.338723778725,0.0663610473275,0.206798061728,0.356591135263,0.368294745684,0.0130916656926,0.850326955318,0.014732026495,0.561295688152,0.0281106755137,0.251759290695,0.840809524059,0.116411320865,0.0578733384609,0.0640622749925,0.14494946599,0.326397120953,0.0620074793696,0.0100391907617,0.306298345327,0.021999778226,0.0145587800071,0.0769349262118,0.888003230095,0.149035528302,0.0750444829464,0.0299578625709,0.0364779159427,0.0807052329183,0.0335832126439,0.0354732759297,0.0212696809322,0.45967271924,0.0433711521327,0.177492648363,0.0205153524876,0.187958031893,0.898880362511,0.309995681047,0.0885284394026,0.0209573507309,0.172018125653,0.390568047762,0.768155515194,0.15033853054,0.191394403577,0.425213634968,0.0144664887339,0.196508690715,0.179803028703,0.335370570421,0.105575717986,0.182586103678,0.120907962322,0.206418260932,0.00974146556109,0.112691141665,0.00711015611887,0.215266808867,0.0187199022621,0.0213274303824,0.0599484592676,0.0161209255457,0.0153434472159,0.478337794542,0.0247965808958,0.0258569084108,0.0678040832281,0.175577029586,0.0296610929072,0.160417988896,0.0867487043142,0.17593768239,0.12839923799,0.392909914255,0.260192781687,0.569575667381,0.0578377209604,0.135815739632,0.0321363583207,0.0735983774066,0.0283497720957,0.0135878697038,0.929501533508,0.00920401513577,0.0567862838507,0.0226760581136,0.209037005901,0.524329841137,0.0243890229613,0.040601760149,0.175528183579,0.0171304345131,0.921570956707,0.303359240294,0.00886376574636,0.0536033771932,0.247669860721,0.0243427623063,0.030158476904,0.0376843810081,0.065388046205,0.1030536443,0.0336697623134,0.0631325319409,0.0483852811158,0.249663099647,0.746377229691,0.0799202844501,0.031954895705,0.0238397885114,0.399030894041,0.508411109447,0.100406467915,0.165776506066,0.272719919682,0.0952277258039,0.0518369115889,0.0635677874088,0.0107378466055,0.0393242128193,0.240663513541,0.922203242779,0.0394569411874,0.709104120731,0.0596404187381,0.210147410631,0.0157236140221,0.959462761879,0.223894789815,0.0143403531983,0.163939759135,0.0947907865047,0.0656075552106,0.227745145559,0.0457358844578,0.0835918188095,0.50175088644,0.892557024956,0.0701370313764,0.571291446686,0.0587925985456,0.0147271873429,0.0231762416661,0.0550920143723,0.0186296943575,0.595546245575,0.192283719778,0.0612265691161,0.16757068038,0.152520686388,0.299443483353,0.0440038405359,0.515767157078,0.256101191044,0.182220682502,0.167471647263,0.0773401781917,0.0470224283636,0.250625878572,0.258642405272,0.763164997101,0.307941377163,0.110574968159,0.111666627228,0.0447940006852,0.0294094029814,0.038314267993,0.315578430891,0.287592589855,0.0298063475639,0.742363989353,0.0650629103184,0.695924937725,0.0724947825074,0.344281792641,0.0448435358703,0.284868061543,0.309283971786,0.0898882821202,0.106763511896,0.00516893249005,0.0409471094608,0.0151399262249,0.0404489263892,0.0558299571276,0.104538545012,0.363706052303,0.458940654993,0.182496264577,0.94412624836,0.0220242626965,0.631787478924,0.9161875844,0.0221819523722,0.0100096249953,0.0275083016604,0.0213716253638,0.0565757453442,0.0901817828417,0.722853779793,0.069325119257,0.0190003290772,0.0361998453736,0.324412614107,0.482257246971,0.154620990157,0.635980606079,0.057772949338,0.420553356409,0.361711919308,0.0140343140811,0.10041359812,0.773031294346,0.051806371659,0.00795648340136,0.0141622964293,0.341186016798,0.0201481711119,0.0281211584806,0.0401720032096,0.384523361921,0.156596302986,0.0123834693804,0.365497410297,0.0480313450098,0.0813914462924,0.380146801472,0.0375829525292,0.183311745524,0.0639895647764,0.00864243321121,0.539880931377,0.494940042496,0.0240475870669,0.230673372746,0.157070696354,0.22109490633,0.0715037286282,0.51920235157,0.131358206272,0.116942889988,0.0206298157573,0.0173000637442,0.0286787375808,0.0119814081118,0.0568086877465,0.0330868326128,0.190197095275,0.0653765648603,0.0098585234955,0.0533528663218,0.276792377234,0.0344254039228,0.0845406800508,0.0776044279337,0.0364160835743,0.0126143256202,0.296764165163,0.288365542889,0.0768885985017,0.00852374639362,0.0999603942037,0.0735562741756,0.0217375978827,0.0973239839077,0.00886308308691,0.156663805246,0.0489051453769,0.672483980656,0.811106026173,0.213205263019,0.0633029937744,0.105460770428,0.0586802922189,0.0355734303594,0.0363251455128,0.0334257856011,0.0820565074682,0.378924608231,0.262529939413,0.947100043297,0.0768293738365,0.303926050663,0.657641887665,0.016213638708,0.0669877976179,0.0466352514923,0.0647098273039,0.0105006983504,0.703791975975,0.0350602790713,0.0307539645582,0.183990165591,0.0274262540042,0.032197508961,0.0082448348403,0.102055385709,0.0237531997263,0.340797334909,0.0385619029403,0.399433791637,0.112363144755,0.539537608624,0.0504700131714,0.0436306409538,0.0598589889705,0.0757856741548,0.0259274281561,0.0887332856655,0.221160456538,0.0454111546278,0.114169314504,0.423557639122,0.915031671524,0.182467713952,0.392862439156,0.0204716362059,0.2265535146,0.0128640560433,0.0900823622942,0.077628955245,0.0364410467446,0.940700650215,0.0730054676533,0.211234092712,0.0216203052551,0.92227846384,0.0111687323079,0.0516603924334,0.079827234149,0.0141439475119,0.0091176815331,0.0132679864764,0.0351504981518,0.0630052387714,0.125593617558,0.0584781095386,0.0188441425562,0.022861013189,0.328023582697,0.0133519247174,0.363536417484,0.0602650940418,0.00653835106641,0.0329724512994,0.0468711853027,0.260065108538,0.073950946331,0.0721364244819,0.0783848315477,0.0981858149171,0.0344197452068,0.0341118052602,0.0838225111365,0.0438671223819,0.0239492747933,0.0341582149267,0.27198573947,0.0150062739849,0.0324371159077,0.543444514275,0.381208837032,0.0611925087869,0.0996376425028,0.00676215998828,0.324322640896,0.174241408706,0.820185422897,0.408610314131,0.0561513341963,0.024671562016,0.147132903337,0.16416464746,0.0377173610032,0.054282143712,0.108623571694,0.106907837093,0.0129034314305,0.0482753030956,0.159277543426,0.0329079553485,0.215061590075,0.0216920096427,0.0611032992601,0.130980879068,0.0586955919862,0.0334096364677,0.864026546478,0.899338066578,0.0224303398281,0.0522347539663,0.0144109772518,0.0401005186141,0.0703234896064,0.0398938208818,0.110005624592,0.00726259220392,0.120317727327,0.106551036239,0.0859877690673,0.0235016494989,0.0322598852217,0.031683512032,0.0996064171195,0.260447621346,0.925994992256,0.0250617358834,0.0246610827744,0.420406401157,0.496133595705,0.0156559310853,0.145281434059,0.866139173508,0.53532242775,0.0229200795293,0.356316238642,0.0789191573858,0.0273301713169,0.121783159673,0.0124788414687,0.0501997731626,0.0135949132964,0.0421862266958,0.0355407930911,0.0610473006964,0.0104858940467,0.784926772118,0.718091189861,0.0567808710039,0.295095562935,0.0395615398884,0.843989789486,0.497474014759,0.907432258129,0.0623921081424,0.0571257583797,0.939621150494,0.0729580819607,0.0226614680141,0.0403365977108,0.0340540595353,0.156119689345,0.0105726830661,0.0562415495515,0.0716483965516,0.17727547884,0.0875876545906,0.0343163646758,0.127790391445,0.0109251039103,0.217502683401,0.102673478425,0.0789572298527,0.0289528407156,0.0500347241759,0.0217114426196,0.0335380993783,0.0158823300153,0.243330702186,0.0621231421828,0.499355316162,0.961759209633,0.0519388876855,0.0108681302518,0.0254015978426,0.214376911521,0.0429097041488,0.204142197967,0.054775416851,0.163200810552,0.0967112109065,0.284696221352,0.0618144460022,0.0144154466689,0.0745860189199,0.0634472370148,0.527528226376,0.92259478569,0.533784747124,0.283373981714,0.0559816658497,0.250343352556,0.082942828536,0.0143902394921,0.311663091183,0.355567365885,0.0532016642392,0.0175786782056,0.0420780032873,0.0403300449252,0.151201158762,0.125242948532,0.0420124419034,0.0228285230696,0.411270707846,0.21851657331,0.370598077774,0.0885851457715,0.074190504849,0.397009521723,0.194767490029,0.0693871229887,0.780963361263,0.220830023289,0.0188957117498,0.0267009474337,0.979051470757,0.0919058918953,0.0881052091718,0.0257422216237,0.028527693823,0.155697673559,0.0199645459652,0.106224052608,0.355462878942,0.409248054028,0.184407144785,0.430355846882,0.0886128768325,0.349047541618,0.0422921702266,0.0336555540562,0.981677412987,0.42573222518,0.218522697687,0.134432882071,0.0575495399535,0.637768566608,0.127658307552,0.294079273939,0.25737246871,0.0789770111442,0.858680546284,0.0316964611411,0.0308576673269,0.0592396594584,0.0631707683206,0.0341684892774,0.0511733852327,0.120217554271,0.0413155853748,0.973565101624,0.0558672808111,0.244855597615,0.609860420227,0.0217109769583,0.283715844154,0.467501431704,0.117881380022,0.0919990763068,0.19978967309,0.0376504473388,0.186530634761,0.0362723506987,0.0280748251826,0.0132341990247,0.218838766217,0.623570203781,0.887266695499,0.0470224283636,0.0563979223371,0.159973591566,0.40745100379,0.188203841448,0.955010652542,0.0229734517634,0.659317731857,0.13065071404,0.304272830486,0.0805781781673,0.85482698679,0.267373383045,0.0742267519236,0.0404237173498,0.109561115503,0.977887809277,0.932794928551,0.872680127621,0.108156204224,0.458196282387,0.36888217926,0.845048069954,0.043367408216,0.126249924302,0.547219216824,0.0486843772233,0.0680618137121,0.011593433097,0.0414328798652,0.0523744411767,0.0614562779665,0.148020520806,0.956577301025,0.046268992126,0.0321274660528,0.187327325344,0.046192124486,0.382949858904,0.0426049754024,0.887305915356,0.422142207623,0.146638587117,0.402597695589,0.0356983989477,0.330278992653,0.0104149123654,0.137804403901,0.534967243671,0.0309816636145,0.0421449691057,0.0467908456922,0.0530113615096,0.0871927589178,0.333543121815,0.0540511123836,0.0327400155365,0.0330560319126,0.115416742861,0.0266825444996,0.29022076726,0.518391191959,0.0447601564229,0.0278053581715,0.166323319077,0.0404132045805,0.919012784958,0.316895633936,0.215327054262,0.0792415216565,0.146271497011,0.203892841935,0.325391083956,0.0251592434943,0.0223695933819,0.0103544117883,0.0250625498593,0.0292319562286,0.0675608217716,0.256512463093,0.225316569209,0.605720460415,0.0729399695992,0.786335766315,0.236705124378,0.823035478592,0.156105056405,0.0222072843462,0.207018613815,0.0313753932714,0.0293105430901,0.940115571022,0.09933796525,0.435411930084,0.144053846598,0.593489944935,0.103258892894,0.029771188274,0.0509330034256,0.00733281997964,0.27780354023,0.146514803171,0.0240887477994,0.00749849155545,0.0414322651923,0.595362365246,0.0295474305749,0.621796488762,0.0108284754679,0.0678849294782,0.00826518889517,0.0160519741476,0.0441792942584,0.0204435251653,0.919695198536,0.0406734310091,0.0427909120917,0.208025947213,0.0216210968792,0.0637971833348,0.356334120035,0.142161130905,0.0869519114494,0.0290440805256,0.877539753914,0.0747786164284,0.0486026667058,0.0925124287605,0.348851233721,0.20688919723,0.975225746632,0.137290358543,0.0262695979327,0.181264281273,0.075722977519,0.03431686759,0.0688791275024,0.0798425301909,0.0322601087391,0.275294214487,0.0742647051811,0.469737559557,0.0579875446856,0.0501873604953,0.0432629324496,0.79383122921,0.0721219480038,0.0266739893705,0.0150803523138,0.0532407574356,0.0926592946053,0.207817912102,0.0969992801547,0.0518147908151,0.0736319422722,0.0413667112589,0.882282674313,0.170100957155,0.251818060875,0.0312447100878,0.0201099775732,0.288241952658,0.0342008732259,0.0817537680268,0.197882324457,0.0198094807565,0.498111844063,0.0439255572855,0.0118828192353,0.0137063702568,0.116555795074,0.0517343096435,0.0738187208772,0.0398561619222,0.0264019016176,0.884435892105,0.0259425509721,0.0712516978383,0.359172046185,0.103391297162,0.0331061035395,0.0746802538633,0.0371433906257,0.0209020860493,0.666398346424,0.333249777555,0.0565961077809,0.269212305546,0.0166140049696,0.256487637758,0.0464717745781,0.069506034255,0.361714065075,0.0197020284832,0.0164719838649,0.044256862253,0.345782667398,0.741954147816,0.0419801063836,0.657417178154,0.0280706174672,0.263088494539,0.377480477095,0.419620782137,0.0455774590373,0.0129811223596,0.185310572386,0.10507594794,0.368290126324,0.0541441962123,0.829582750797,0.0473467186093,0.0727762430906,0.0329202637076,0.697448372841,0.0602131560445,0.025512887165,0.120289713144,0.035592250526,0.276540666819\n"
     ]
    }
   ],
   "source": [
    "print(predictions)"
   ]
  },
  {
   "cell_type": "code",
   "execution_count": null,
   "metadata": {},
   "outputs": [],
   "source": []
  }
 ],
 "metadata": {
  "kernelspec": {
   "display_name": "Python 3",
   "language": "python",
   "name": "python3"
  },
  "language_info": {
   "codemirror_mode": {
    "name": "ipython",
    "version": 3
   },
   "file_extension": ".py",
   "mimetype": "text/x-python",
   "name": "python",
   "nbconvert_exporter": "python",
   "pygments_lexer": "ipython3",
   "version": "3.7.6"
  }
 },
 "nbformat": 4,
 "nbformat_minor": 4
}
